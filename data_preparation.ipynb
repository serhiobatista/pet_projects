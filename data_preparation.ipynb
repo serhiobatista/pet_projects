{
 "cells": [
  {
   "cell_type": "markdown",
   "metadata": {},
   "source": [
    "Ниже представлена работа по предварительной подготовке и очистке данных для проведения регрессионного анализа. Регрессионный анализ посвящен поиску взаимосвязи между эффективностью медицинской политики в борьбе с коронавирусом и голосованием за партию «Единая Россия» на парламентских выборах в 2021 году. Сам регрессионный анализ был проведен в r-studio, так как в нем больше возможностей для обработки статистических данных."
   ]
  },
  {
   "cell_type": "markdown",
   "metadata": {},
   "source": [
    "Эффективность медицинской политики оценивается на основе 100-балльной шкалы. Рассчет предполагает нормировку всех показателей в индексы, измеряющиеся от 0 до 100 баллов по формуле.\n",
    "\n",
    "**Index = 100 * ((x - min) / (max - min))**\n",
    "\n",
    "**x** -  значение показателя для конкретного региона РФ\n",
    "\n",
    "**max** - максимальное значение показателя по выборке из 85 регионов\n",
    "\n",
    "**min** - минимальное значение показателя по вборке из 85 регионов"
   ]
  },
  {
   "cell_type": "markdown",
   "metadata": {},
   "source": [
    "Формулы для рассчета были взяты из [исследования](https://www.hse.ru/news/381045220.html) Института муниципального и государственного управления НИУ ВШЭ."
   ]
  },
  {
   "cell_type": "markdown",
   "metadata": {},
   "source": [
    "**Рейтинг по медицине =  (0.25) * Мощность системы здравоохранения + (0.25) * Случае инфицирования на 100 тыс. + (0.25) * Максимум новых случаев за 30 дней на 100 тыс. + (0.25) * Смертей от COVID-19 на 100 тыс.**"
   ]
  },
  {
   "cell_type": "markdown",
   "metadata": {},
   "source": [
    "Мощность системы здравоохранения рассчитывается по формуле ниже.\n",
    "\n",
    "\n",
    "**Мощность системы здравоохранения = (0.4) * Количество врачей на 100 тыс. + (0.3) * Количество среднего медицинского персонала + (0.3) * Количество больничных коек на 100 тыс.**"
   ]
  },
  {
   "cell_type": "code",
   "execution_count": 519,
   "metadata": {},
   "outputs": [],
   "source": [
    "import pandas as pd\n",
    "from functools import reduce\n",
    "import seaborn as sns\n",
    "import requests\n",
    "from bs4 import BeautifulSoup\n",
    "\n",
    "from sklearn.linear_model import LinearRegression\n",
    "import numpy as np"
   ]
  },
  {
   "cell_type": "markdown",
   "metadata": {},
   "source": [
    "**Население субъектов РФ**"
   ]
  },
  {
   "cell_type": "markdown",
   "metadata": {},
   "source": [
    "Сначала мы добавим в наш датасет информацию о населении субъектов РФ, чтобы затем нормировать все остальные показатели к 100 000 человек. Проще всего спарсить информацию из википедии."
   ]
  },
  {
   "cell_type": "code",
   "execution_count": 469,
   "metadata": {},
   "outputs": [],
   "source": [
    "website_url = requests.get('https://ru.wikipedia.org/wiki/%D0%9D%D0%B0%D1%81%D0%B5%D0%BB%D0%B5%D0%BD%D0%B8%D0%B5_%D1%81%D1%83%D0%B1%D1%8A%D0%B5%D0%BA%D1%82%D0%BE%D0%B2_%D0%A0%D0%BE%D1%81%D1%81%D0%B8%D0%B9%D1%81%D0%BA%D0%BE%D0%B9_%D0%A4%D0%B5%D0%B4%D0%B5%D1%80%D0%B0%D1%86%D0%B8%D0%B8').text\n",
    "soup = BeautifulSoup(website_url,'lxml')\n",
    "\n",
    "My_table = soup.find('table',{'class':'standard sortable'})\n",
    "pop=pd.read_html(str(My_table))\n",
    "# convert list to dataframe\n",
    "pop=pd.DataFrame(pop[0])"
   ]
  },
  {
   "cell_type": "code",
   "execution_count": 470,
   "metadata": {},
   "outputs": [],
   "source": [
    "pop = pop[['Субъект РФ','Всёнаселе-ние, чел']]\n",
    "pop.columns = ['region','population']\n",
    "pop['population'] = pop['population'].apply(lambda x: x[1:])\n",
    "pop['population'] = pop['population'].apply(lambda x: int(''.join(x.split())))\n",
    "pop=pop.set_index('region').drop(['Тюменская область(с ХМАО и ЯНАО)', 'РФ','Архангельская область (с НАО)']).reset_index()"
   ]
  },
  {
   "cell_type": "markdown",
   "metadata": {},
   "source": [
    "Заранее приводим название субъектов к единообразному виду, чтобы было проще затем склеивать датафреймы друг с другом."
   ]
  },
  {
   "cell_type": "code",
   "execution_count": 471,
   "metadata": {},
   "outputs": [],
   "source": [
    "def change_name3(x):\n",
    "\n",
    "    if 'область' in x:\n",
    "        return x.replace('область','обл.').strip()\n",
    "    \n",
    "    elif 'Республика' in x:\n",
    "        return x.replace('Республика', '').strip()\n",
    "    \n",
    "    elif 'автономный округ' in x:\n",
    "        return x.replace('автономный округ','АО').strip()\n",
    "    \n",
    "    else:\n",
    "        return x\n",
    "    \n",
    "    "
   ]
  },
  {
   "cell_type": "code",
   "execution_count": 472,
   "metadata": {},
   "outputs": [],
   "source": [
    "def change_name2(x):\n",
    "    \n",
    "    if 'Кабардино-Балкарская Республика' in x:\n",
    "        return x.replace('Кабардино-Балкарская Республика','Кабардино-Балкария')\n",
    "    \n",
    "    elif 'Архангельская область без НАО' in x:\n",
    "        return x.replace('Архангельская область без НАО', 'Архангельская обл.')\n",
    "    \n",
    "    elif 'Ханты-Мансийскийавтономный округ — Югра' in x:\n",
    "        return x.replace('Ханты-Мансийскийавтономный округ — Югра', 'ХМАО – Югра')\n",
    "    \n",
    "    elif 'Севастополь[a]' in x:\n",
    "        return x.replace('Севастополь[a]', 'Севастополь')\n",
    "    \n",
    "    else:\n",
    "        return x"
   ]
  },
  {
   "cell_type": "code",
   "execution_count": 473,
   "metadata": {},
   "outputs": [],
   "source": [
    "def change_name1(x):\n",
    "    if 'Республика Крым[a]' in x:\n",
    "        return x.replace('Республика Крым[a]','Крым')\n",
    "    \n",
    "    elif 'Республика СевернаяОсетия — Алания' in x:\n",
    "        return x.replace('Республика СевернаяОсетия — Алания','Северная Осетия')\n",
    "    \n",
    "    elif 'Тюменская областьбез ХМАО и ЯНАО' in x:\n",
    "        return x.replace('Тюменская областьбез ХМАО и ЯНАО','Тюменская обл.')\n",
    "    \n",
    "    elif 'Чеченская Республика' in x:\n",
    "        return x.replace('Чеченская Республика', 'Чечня')\n",
    "    \n",
    "    elif 'Чувашская Республика' in x:\n",
    "        return x.replace('Чувашская Республика','Чувашия')\n",
    "    \n",
    "    elif 'Карачаево-Черкесская Республика' in x:\n",
    "        return x.replace('Карачаево-Черкесская Республика','Карачаево-Черкессия')\n",
    "    \n",
    "    elif 'Удмуртская Республика' in x:\n",
    "        return x.replace('Удмуртская Республика','Удмуртия')\n",
    "    \n",
    "    elif 'Еврейская автономная область':\n",
    "        return x.replace('Еврейская автономная область', 'Еврейская АО')\n",
    "    \n",
    "    elif 'Карачаево-Черкесская' in x:\n",
    "        return x.replace('Карачаево-Черкесская','Карачаево-Черкессия')\n",
    "    \n",
    "    elif 'Чеченская Республика' in x:\n",
    "        return x.replace('Чеченская Республика','Чечня')\n",
    "    \n",
    "    else:\n",
    "        return x"
   ]
  },
  {
   "cell_type": "code",
   "execution_count": 474,
   "metadata": {},
   "outputs": [],
   "source": [
    "pop['region'] = pop['region'].apply(change_name1)\n",
    "pop['region'] = pop['region'].apply(change_name2)\n",
    "pop['region'] = pop['region'].apply(change_name3)"
   ]
  },
  {
   "cell_type": "markdown",
   "metadata": {},
   "source": [
    "**Количество коек**"
   ]
  },
  {
   "cell_type": "markdown",
   "metadata": {},
   "source": [
    "Загрузим информацию об общем количестве койек в каждом регионе России. Данные были взяты из Росстата."
   ]
  },
  {
   "cell_type": "code",
   "execution_count": 475,
   "metadata": {},
   "outputs": [],
   "source": [
    "koiki = pd.read_excel(\"C:/Users/Asus/data covid/koiki.xls\", header = None,)\\\n",
    "          .rename(columns={0:'region',1:'total_koiki'})\n"
   ]
  },
  {
   "cell_type": "code",
   "execution_count": 476,
   "metadata": {},
   "outputs": [],
   "source": [
    "l = ['Центральный федеральный округ', 'Южный федеральный  округ ', 'Уральский федеральный округ','Дальневосточный федеральный округ',\n",
    "    'Северо-Кавказский федеральный округ','Приволжский федеральный округ','Сибирский федеральный округ', 'Северо-Западный федеральный округ',\n",
    "     'Архангельская область','Тюменская область','Северо-Кавказский','Южный федеральный округ']\n",
    "koiki = koiki.query('region not in @l')\n",
    "koiki['region'] = koiki['region'].apply(lambda x: x.strip())\n",
    "\n"
   ]
  },
  {
   "cell_type": "markdown",
   "metadata": {},
   "source": [
    "**Количество врачей**\n",
    "\n",
    "Делаем то же самое для врачей и среднего медицинского персонала."
   ]
  },
  {
   "cell_type": "code",
   "execution_count": 477,
   "metadata": {},
   "outputs": [],
   "source": [
    "doctors = pd.read_excel(\"C:/Users/Asus/data covid/doctors.xlsx\")\n",
    "doctors = doctors.query('region not in @l')\n",
    "doctors['region'] = doctors['region'].apply(lambda x: x.strip())"
   ]
  },
  {
   "cell_type": "markdown",
   "metadata": {},
   "source": [
    "**Количество медицинского персонала**"
   ]
  },
  {
   "cell_type": "code",
   "execution_count": 478,
   "metadata": {},
   "outputs": [],
   "source": [
    "staff = pd.read_excel(\"C:/Users/Asus/data covid/staff.xlsx\")\n",
    "staff = staff.query('region not in @l')\n",
    "staff['region'] = staff['region'].apply(lambda x: x.strip())\n"
   ]
  },
  {
   "cell_type": "markdown",
   "metadata": {},
   "source": [
    "**Количество случаев заражений на 100 тыс.**"
   ]
  },
  {
   "cell_type": "markdown",
   "metadata": {},
   "source": [
    "Добавляем информацию об общем числе зараженных на 100 тыс. человек в каждом регионе на момент голосования 19 сентября 2021 года. Данные взяты из агрегированного датасета от Яндекса. Из этого же источника были взяты данные про общую смертность, максимум заражений в течение 30 дней перед выборами."
   ]
  },
  {
   "cell_type": "code",
   "execution_count": 479,
   "metadata": {},
   "outputs": [],
   "source": [
    "total_cases_per_100 = pd.read_csv(\"C:/Users/Asus/data covid/total_cases_per_100.csv\", sep = ';')"
   ]
  },
  {
   "cell_type": "code",
   "execution_count": 480,
   "metadata": {},
   "outputs": [],
   "source": [
    "total_cases_per_100['DateTime'] = pd.to_datetime(total_cases_per_100['DateTime'])\n",
    "\n",
    "total_infected = total_cases_per_100.set_index('DateTime')\\\n",
    "                                    .loc[:'2021-09-20']\\\n",
    "                                    .T.iloc[:,-1]\\\n",
    "                                    .to_frame()\\\n",
    "                                    .reset_index()\n",
    "\n",
    "total_infected.columns = ['region','cases_100']\n",
    "\n"
   ]
  },
  {
   "cell_type": "markdown",
   "metadata": {},
   "source": [
    "**Общая смертность**"
   ]
  },
  {
   "cell_type": "code",
   "execution_count": 481,
   "metadata": {},
   "outputs": [],
   "source": [
    "death_covid = pd.read_csv(\"C:/Users/Asus/data covid/death_covid.csv\", sep = ';')"
   ]
  },
  {
   "cell_type": "code",
   "execution_count": 482,
   "metadata": {},
   "outputs": [],
   "source": [
    "death_covid['DateTime'] = pd.to_datetime(death_covid['DateTime'])\n",
    "\n",
    "death = death_covid.set_index('DateTime')\\\n",
    "                            .loc[:'2021-09-20']\\\n",
    "                            .T.iloc[:,-1]\\\n",
    "                            .to_frame().reset_index()\n",
    "\n",
    "death.columns = ['region','death_per_100']"
   ]
  },
  {
   "cell_type": "markdown",
   "metadata": {},
   "source": [
    "**Прирост максимальный за 30 дней**"
   ]
  },
  {
   "cell_type": "code",
   "execution_count": 483,
   "metadata": {},
   "outputs": [],
   "source": [
    "prirost = pd.read_csv(\"C:/Users/Asus/data covid/prirost.csv\", sep = ';')"
   ]
  },
  {
   "cell_type": "code",
   "execution_count": 484,
   "metadata": {},
   "outputs": [],
   "source": [
    "prirost['DateTime'] = pd.to_datetime(prirost['DateTime'])\n",
    "prirost_max_30 = prirost.set_index('DateTime').loc['2021-08-20':'2021-09-20'].T\n",
    "\n",
    "prirost_max_30 = prirost_max_30.max(axis=1)\\\n",
    "                               .to_frame()\\\n",
    "                               .reset_index().rename(columns=({'index':'region',0:'max_30_days'}))\n",
    "\n",
    "prirost_max_30['region'] = prirost_max_30['region'].apply(lambda x: x.strip())"
   ]
  },
  {
   "cell_type": "markdown",
   "metadata": {},
   "source": [
    "**Избыточная смертность**"
   ]
  },
  {
   "cell_type": "markdown",
   "metadata": {},
   "source": [
    "Есть предположения о том, что российские власти сознательно манипулировали статистикой о коронавирусе, особенно в аспекте общего числа смертей. Ниже представлен словарь, где ключом является предполагаемое истинное число смертей от ковида. На основе 10 предыдущих лет было посчитано ожидаемая убыль населения, затем она была сопоставлена с фактической убылью населения на сентябрь 2021 года. Отклонение от ожидаемого значения является предположительной истинной оценкой числа смертей от коронавируса."
   ]
  },
  {
   "cell_type": "code",
   "execution_count": 485,
   "metadata": {},
   "outputs": [],
   "source": [
    "death_real = {'Адыгея': 1700, 'Алтай': 807, 'Алтайский край': 13164, 'Амурская обл.': 4079, 'Архангельская обл.': 4890,\n",
    " 'Астраханская обл.': 5135,'Башкортостан': 22099, 'Белгородская обл.': 7662, 'Брянская обл.': 5865, 'Бурятия': 3350,\n",
    " 'Владимирская обл.': 7448, 'Волгоградская обл.': 15794, 'Вологодская обл.': 4144,'Воронежская обл.': 12957, 'Дагестан': 8031,\n",
    " 'Еврейская АО': 652,'Забайкальский край': 3544,'Ивановская обл.': 4277,'Ингушетия': 1005,'Иркутская обл.': 10981,'Кабардино-Балкария': 2816,\n",
    " 'Калининградская обл.': 3832,'Калмыкия': 1154, 'Калужская обл.': 5658,'Камчатский край': 1312,'Карачаево-Черкессия': 1701,\n",
    " 'Карелия': 3510,'Кемеровская обл.': 11818,'Кировская обл.': 6752,'Коми': 3241,'Костромская обл.': 2984,'Краснодарский край': 32515,\n",
    " 'Красноярский край': 13581,'Крым': 9082, 'Курганская обл.': 4355,'Курская обл.': 6443,'Ленинградская обл.': 10430, 'Липецкая обл.': 8349,\n",
    " 'Магаданская обл.': 479,'Марий Эл': 3156,'Мордовия': 4815,'Москва': 70415,'Московская обл.': 42967,'Мурманская обл.': 3773,\n",
    " 'Ненецкий АО': 187,'Нижегородская обл.': 17789, 'Новгородская обл.': 2901,'Новосибирская обл.': 15631,'Омская обл.': 10734,\n",
    " 'Оренбургская обл.': 13784,'Орловская обл.': 3690,'Пензенская обл.': 8472, 'Пермский край': 11855, 'Приморский край': 8131,\n",
    "'Псковская обл.': 2531, 'Ростовская обл.': 23338,'Рязанская обл.': 7548, 'Самарская обл.': 19796,'Санкт-Петербург': 31733,\n",
    " 'Саратовская обл.': 16289,'Саха (Якутия)': 3314,'Сахалинская обл.': 1760,\n",
    " 'Свердловская обл.': 21966,'Севастополь': 1914, 'Северная Осетия': 2857,'Смоленская обл.': 3968, 'Ставропольский край': 12089,\n",
    " 'Тамбовская обл.': 5237, 'Татарстан': 22588, 'Тверская обл.': 5349, 'Томская обл.': 5054, 'Тульская обл.': 7022, 'Тыва': 424,\n",
    " 'Тюменская обл.': 6446, 'Удмуртия': 6925, 'Ульяновская обл.': 7190, 'Хабаровский край': 6045, 'Хакасия': 1838, 'ХМАО – Югра': 1222,\n",
    " 'Челябинская обл.': 18958, 'Чечня': 4303, 'Чувашия': 7164,'Чукотский АО': 116,'Ямало-Ненецкий АО': 1222, 'Ярославская обл.': 6694}"
   ]
  },
  {
   "cell_type": "code",
   "execution_count": 486,
   "metadata": {},
   "outputs": [],
   "source": [
    "death_real = pd.DataFrame(death_real.items())\n",
    "death_real = death_real.rename(columns={0:'region',1:'death_real'})"
   ]
  },
  {
   "cell_type": "markdown",
   "metadata": {},
   "source": [
    "**Добавляем результаты голосования**"
   ]
  },
  {
   "cell_type": "markdown",
   "metadata": {},
   "source": [
    "Теперь нам нужны результаты голосования за партию власти в разрезе регионов — парсим информацию из википедии. "
   ]
  },
  {
   "cell_type": "code",
   "execution_count": 487,
   "metadata": {},
   "outputs": [],
   "source": [
    "website_url = requests.get('https://ru.wikipedia.org/wiki/%D0%92%D1%8B%D0%B1%D0%BE%D1%80%D1%8B_%D0%B2_%D0%93%D0%BE%D1%81%D1%83%D0%B4%D0%B0%D1%80%D1%81%D1%82%D0%B2%D0%B5%D0%BD%D0%BD%D1%83%D1%8E_%D0%B4%D1%83%D0%BC%D1%83_(2021):_%D1%80%D0%B5%D0%B7%D1%83%D0%BB%D1%8C%D1%82%D0%B0%D1%82%D1%8B_%D0%BF%D0%BE_%D0%BF%D0%B0%D1%80%D1%82%D0%B8%D0%B9%D0%BD%D1%8B%D0%BC_%D1%81%D0%BF%D0%B8%D1%81%D0%BA%D0%B0%D0%BC').text\n",
    "soup = BeautifulSoup(website_url,'lxml')\n",
    "\n",
    "\n",
    "My_table = soup.find_all('table',{'class':\"wikitable sortable\"})\n",
    "df=pd.read_html(str(My_table))"
   ]
  },
  {
   "cell_type": "code",
   "execution_count": 488,
   "metadata": {},
   "outputs": [],
   "source": [
    "voting = pd.DataFrame(df[2]).droplevel(level=[0,1],axis=1)\\\n",
    "                            .iloc[:,:4]\\\n",
    "                            .rename(columns={'Наименование':'region', 'Явка':'turnout','ЕР':'UR','КПРФ':'CPRF'})"
   ]
  },
  {
   "cell_type": "markdown",
   "metadata": {},
   "source": [
    "Приводим названия регинов к единообразному виду."
   ]
  },
  {
   "cell_type": "code",
   "execution_count": 489,
   "metadata": {},
   "outputs": [],
   "source": [
    "def change_name4(x):\n",
    "    if 'Кабардино-Балкарская Респ.' in x:\n",
    "        return x.replace('Кабардино-Балкарская Респ.','Кабардино-Балкария')\n",
    "    elif 'Карачаево-Черкесская Респ.' in x:\n",
    "        return x.replace('Карачаево-Черкесская Респ.', 'Карачаево-Черкессия')\n",
    "    elif 'Сев. Осетия' in x:\n",
    "        return x.replace('Сев. Осетия', 'Северная Осетия')\n",
    "    elif 'Ханты-Мансийский АО' in x:\n",
    "        return x.replace('Ханты-Мансийский АО','ХМАО – Югра')\n",
    "    elif 'Еврейская авт. обл.' in x:\n",
    "        return x.replace('Еврейская авт. обл.', 'Еврейская АО')\n",
    "    else:\n",
    "        return x\n",
    "    "
   ]
  },
  {
   "cell_type": "code",
   "execution_count": 490,
   "metadata": {},
   "outputs": [],
   "source": [
    "voting['region'] = voting['region'].apply(change_name1)\n",
    "voting['region'] = voting['region'].apply(change_name2)\n",
    "voting['region'] = voting['region'].apply(change_name3)\n",
    "voting['region'] = voting['region'].apply(change_name4)"
   ]
  },
  {
   "cell_type": "markdown",
   "metadata": {},
   "source": [
    "**Соединяем все в единый датафрейм**"
   ]
  },
  {
   "cell_type": "code",
   "execution_count": 491,
   "metadata": {},
   "outputs": [],
   "source": [
    "frames = [prirost_max_30,death_per_100,total_infected,staff,doctors,koiki,voting,pop, death_real]\n",
    "\n",
    "final = reduce(lambda  left,right: pd.merge(left,right,on='region'), frames)"
   ]
  },
  {
   "cell_type": "code",
   "execution_count": 492,
   "metadata": {},
   "outputs": [],
   "source": [
    "l_col = ['UR','turnout','CPRF']\n",
    "\n",
    "for i in l_col:\n",
    "    final[i] = final[i] / 100\n",
    "\n",
    "final.iloc[4,10] = 1114322\n",
    "final.iloc[73,10] = 1552148\n",
    "\n",
    "final = final.rename(columns={'death_per_100': 'death'})\n"
   ]
  },
  {
   "cell_type": "code",
   "execution_count": 493,
   "metadata": {
    "scrolled": true
   },
   "outputs": [
    {
     "data": {
      "text/html": [
       "<div>\n",
       "<style scoped>\n",
       "    .dataframe tbody tr th:only-of-type {\n",
       "        vertical-align: middle;\n",
       "    }\n",
       "\n",
       "    .dataframe tbody tr th {\n",
       "        vertical-align: top;\n",
       "    }\n",
       "\n",
       "    .dataframe thead th {\n",
       "        text-align: right;\n",
       "    }\n",
       "</style>\n",
       "<table border=\"1\" class=\"dataframe\">\n",
       "  <thead>\n",
       "    <tr style=\"text-align: right;\">\n",
       "      <th></th>\n",
       "      <th>region</th>\n",
       "      <th>max_30_days</th>\n",
       "      <th>death</th>\n",
       "      <th>cases_100</th>\n",
       "      <th>total_staff</th>\n",
       "      <th>total_doctors</th>\n",
       "      <th>total_koiki</th>\n",
       "      <th>turnout</th>\n",
       "      <th>UR</th>\n",
       "      <th>CPRF</th>\n",
       "      <th>population</th>\n",
       "      <th>death_real</th>\n",
       "    </tr>\n",
       "  </thead>\n",
       "  <tbody>\n",
       "    <tr>\n",
       "      <th>0</th>\n",
       "      <td>Адыгея</td>\n",
       "      <td>60.0</td>\n",
       "      <td>398.0</td>\n",
       "      <td>4222.764328</td>\n",
       "      <td>4268</td>\n",
       "      <td>1824</td>\n",
       "      <td>3146</td>\n",
       "      <td>68.21</td>\n",
       "      <td>66.45</td>\n",
       "      <td>14.57</td>\n",
       "      <td>468340</td>\n",
       "      <td>1700</td>\n",
       "    </tr>\n",
       "    <tr>\n",
       "      <th>1</th>\n",
       "      <td>Алтай</td>\n",
       "      <td>45.0</td>\n",
       "      <td>345.0</td>\n",
       "      <td>9747.641737</td>\n",
       "      <td>2719</td>\n",
       "      <td>1008</td>\n",
       "      <td>1611</td>\n",
       "      <td>46.19</td>\n",
       "      <td>38.50</td>\n",
       "      <td>30.09</td>\n",
       "      <td>221559</td>\n",
       "      <td>807</td>\n",
       "    </tr>\n",
       "    <tr>\n",
       "      <th>2</th>\n",
       "      <td>Алтайский край</td>\n",
       "      <td>270.0</td>\n",
       "      <td>3995.0</td>\n",
       "      <td>3199.763412</td>\n",
       "      <td>23564</td>\n",
       "      <td>9960</td>\n",
       "      <td>20883</td>\n",
       "      <td>40.95</td>\n",
       "      <td>33.67</td>\n",
       "      <td>30.54</td>\n",
       "      <td>2268179</td>\n",
       "      <td>13164</td>\n",
       "    </tr>\n",
       "    <tr>\n",
       "      <th>3</th>\n",
       "      <td>Амурская обл.</td>\n",
       "      <td>136.0</td>\n",
       "      <td>432.0</td>\n",
       "      <td>4295.712554</td>\n",
       "      <td>8421</td>\n",
       "      <td>4329</td>\n",
       "      <td>7426</td>\n",
       "      <td>41.65</td>\n",
       "      <td>34.32</td>\n",
       "      <td>26.55</td>\n",
       "      <td>772525</td>\n",
       "      <td>4079</td>\n",
       "    </tr>\n",
       "    <tr>\n",
       "      <th>4</th>\n",
       "      <td>Архангельская обл.</td>\n",
       "      <td>271.0</td>\n",
       "      <td>1165.0</td>\n",
       "      <td>7804.102676</td>\n",
       "      <td>13544</td>\n",
       "      <td>5955</td>\n",
       "      <td>8751</td>\n",
       "      <td>41.58</td>\n",
       "      <td>32.21</td>\n",
       "      <td>18.70</td>\n",
       "      <td>1114322</td>\n",
       "      <td>4890</td>\n",
       "    </tr>\n",
       "  </tbody>\n",
       "</table>\n",
       "</div>"
      ],
      "text/plain": [
       "               region  max_30_days   death    cases_100  total_staff  \\\n",
       "0              Адыгея         60.0   398.0  4222.764328         4268   \n",
       "1               Алтай         45.0   345.0  9747.641737         2719   \n",
       "2      Алтайский край        270.0  3995.0  3199.763412        23564   \n",
       "3       Амурская обл.        136.0   432.0  4295.712554         8421   \n",
       "4  Архангельская обл.        271.0  1165.0  7804.102676        13544   \n",
       "\n",
       "   total_doctors  total_koiki  turnout     UR   CPRF  population  death_real  \n",
       "0           1824         3146    68.21  66.45  14.57      468340        1700  \n",
       "1           1008         1611    46.19  38.50  30.09      221559         807  \n",
       "2           9960        20883    40.95  33.67  30.54     2268179       13164  \n",
       "3           4329         7426    41.65  34.32  26.55      772525        4079  \n",
       "4           5955         8751    41.58  32.21  18.70     1114322        4890  "
      ]
     },
     "execution_count": 493,
     "metadata": {},
     "output_type": "execute_result"
    }
   ],
   "source": [
    "final.head()"
   ]
  },
  {
   "cell_type": "markdown",
   "metadata": {},
   "source": [
    "**Нормируем наши показатели в расчете на 100 000 человек и оставляем только нужные колонки**"
   ]
  },
  {
   "cell_type": "markdown",
   "metadata": {},
   "source": [
    "Так как наш индекс предполагает нормировку, то на следующем шаге мы рассчитываем наши показатели на 100 тыс. человек."
   ]
  },
  {
   "cell_type": "code",
   "execution_count": 494,
   "metadata": {},
   "outputs": [],
   "source": [
    "l_newcol = ['death_100','koiki_100','staff_100','doctors_100','death_real_100','max30_days']\n",
    "l_col = ['death','total_koiki', 'total_staff','total_doctors','death_real','max_30_days' ]\n",
    "\n",
    "for i,k in zip(l_col,l_newcol):\n",
    "    final[k] = final[i] / final['population'] * 100000\n",
    "\n"
   ]
  },
  {
   "cell_type": "code",
   "execution_count": 495,
   "metadata": {},
   "outputs": [],
   "source": [
    "final_normal = final[['region','max30_days','death_100','koiki_100','staff_100'\n",
    "                      ,'doctors_100','turnout','UR','CPRF','death_real_100','cases_100']].copy()"
   ]
  },
  {
   "cell_type": "code",
   "execution_count": 496,
   "metadata": {},
   "outputs": [
    {
     "data": {
      "text/html": [
       "<div>\n",
       "<style scoped>\n",
       "    .dataframe tbody tr th:only-of-type {\n",
       "        vertical-align: middle;\n",
       "    }\n",
       "\n",
       "    .dataframe tbody tr th {\n",
       "        vertical-align: top;\n",
       "    }\n",
       "\n",
       "    .dataframe thead th {\n",
       "        text-align: right;\n",
       "    }\n",
       "</style>\n",
       "<table border=\"1\" class=\"dataframe\">\n",
       "  <thead>\n",
       "    <tr style=\"text-align: right;\">\n",
       "      <th></th>\n",
       "      <th>region</th>\n",
       "      <th>max30_days</th>\n",
       "      <th>death_100</th>\n",
       "      <th>koiki_100</th>\n",
       "      <th>staff_100</th>\n",
       "      <th>doctors_100</th>\n",
       "      <th>turnout</th>\n",
       "      <th>UR</th>\n",
       "      <th>CPRF</th>\n",
       "      <th>death_real_100</th>\n",
       "      <th>cases_100</th>\n",
       "    </tr>\n",
       "  </thead>\n",
       "  <tbody>\n",
       "    <tr>\n",
       "      <th>0</th>\n",
       "      <td>Адыгея</td>\n",
       "      <td>12.811206</td>\n",
       "      <td>84.980997</td>\n",
       "      <td>671.734210</td>\n",
       "      <td>911.303754</td>\n",
       "      <td>389.460648</td>\n",
       "      <td>68.21</td>\n",
       "      <td>66.45</td>\n",
       "      <td>14.57</td>\n",
       "      <td>362.984157</td>\n",
       "      <td>4222.764328</td>\n",
       "    </tr>\n",
       "    <tr>\n",
       "      <th>1</th>\n",
       "      <td>Алтай</td>\n",
       "      <td>20.310617</td>\n",
       "      <td>155.714731</td>\n",
       "      <td>727.120090</td>\n",
       "      <td>1227.212616</td>\n",
       "      <td>454.957822</td>\n",
       "      <td>46.19</td>\n",
       "      <td>38.50</td>\n",
       "      <td>30.09</td>\n",
       "      <td>364.237066</td>\n",
       "      <td>9747.641737</td>\n",
       "    </tr>\n",
       "    <tr>\n",
       "      <th>2</th>\n",
       "      <td>Алтайский край</td>\n",
       "      <td>11.903822</td>\n",
       "      <td>176.132483</td>\n",
       "      <td>920.694531</td>\n",
       "      <td>1038.895078</td>\n",
       "      <td>439.118782</td>\n",
       "      <td>40.95</td>\n",
       "      <td>33.67</td>\n",
       "      <td>30.54</td>\n",
       "      <td>580.377475</td>\n",
       "      <td>3199.763412</td>\n",
       "    </tr>\n",
       "    <tr>\n",
       "      <th>3</th>\n",
       "      <td>Амурская обл.</td>\n",
       "      <td>17.604608</td>\n",
       "      <td>55.920520</td>\n",
       "      <td>961.263390</td>\n",
       "      <td>1090.061810</td>\n",
       "      <td>560.370215</td>\n",
       "      <td>41.65</td>\n",
       "      <td>34.32</td>\n",
       "      <td>26.55</td>\n",
       "      <td>528.008802</td>\n",
       "      <td>4295.712554</td>\n",
       "    </tr>\n",
       "    <tr>\n",
       "      <th>4</th>\n",
       "      <td>Архангельская обл.</td>\n",
       "      <td>24.319721</td>\n",
       "      <td>104.547878</td>\n",
       "      <td>785.320581</td>\n",
       "      <td>1215.447600</td>\n",
       "      <td>534.405674</td>\n",
       "      <td>41.58</td>\n",
       "      <td>32.21</td>\n",
       "      <td>18.70</td>\n",
       "      <td>438.831864</td>\n",
       "      <td>7804.102676</td>\n",
       "    </tr>\n",
       "  </tbody>\n",
       "</table>\n",
       "</div>"
      ],
      "text/plain": [
       "               region  max30_days   death_100   koiki_100    staff_100  \\\n",
       "0              Адыгея   12.811206   84.980997  671.734210   911.303754   \n",
       "1               Алтай   20.310617  155.714731  727.120090  1227.212616   \n",
       "2      Алтайский край   11.903822  176.132483  920.694531  1038.895078   \n",
       "3       Амурская обл.   17.604608   55.920520  961.263390  1090.061810   \n",
       "4  Архангельская обл.   24.319721  104.547878  785.320581  1215.447600   \n",
       "\n",
       "   doctors_100  turnout     UR   CPRF  death_real_100    cases_100  \n",
       "0   389.460648    68.21  66.45  14.57      362.984157  4222.764328  \n",
       "1   454.957822    46.19  38.50  30.09      364.237066  9747.641737  \n",
       "2   439.118782    40.95  33.67  30.54      580.377475  3199.763412  \n",
       "3   560.370215    41.65  34.32  26.55      528.008802  4295.712554  \n",
       "4   534.405674    41.58  32.21  18.70      438.831864  7804.102676  "
      ]
     },
     "execution_count": 496,
     "metadata": {},
     "output_type": "execute_result"
    }
   ],
   "source": [
    "final_normal.head()"
   ]
  },
  {
   "cell_type": "markdown",
   "metadata": {},
   "source": [
    "**В отдельном датафрейме рассчитываем итоговый индекс**"
   ]
  },
  {
   "cell_type": "markdown",
   "metadata": {},
   "source": [
    "У нас есть вся необходимая информация для рассчета итогового индекса. Производим рассчеты в соотвествии с итоговой формулой, которая была расписана выше."
   ]
  },
  {
   "cell_type": "code",
   "execution_count": 497,
   "metadata": {},
   "outputs": [],
   "source": [
    "medical_index = final_normal.copy()"
   ]
  },
  {
   "cell_type": "code",
   "execution_count": 498,
   "metadata": {},
   "outputs": [],
   "source": [
    "l = ['doctors_100','staff_100', 'koiki_100','cases_100','max30_days','death_100']\n",
    "\n",
    "for i in l:\n",
    "    name = i.split('_')[0]\n",
    "    medical_index[name] = 100 * ((medical_index[i] - medical_index[i].min()) / (medical_index[i].max() - medical_index[i].min()))\n",
    "    "
   ]
  },
  {
   "cell_type": "code",
   "execution_count": 522,
   "metadata": {
    "scrolled": true
   },
   "outputs": [
    {
     "data": {
      "text/html": [
       "<div>\n",
       "<style scoped>\n",
       "    .dataframe tbody tr th:only-of-type {\n",
       "        vertical-align: middle;\n",
       "    }\n",
       "\n",
       "    .dataframe tbody tr th {\n",
       "        vertical-align: top;\n",
       "    }\n",
       "\n",
       "    .dataframe thead th {\n",
       "        text-align: right;\n",
       "    }\n",
       "</style>\n",
       "<table border=\"1\" class=\"dataframe\">\n",
       "  <thead>\n",
       "    <tr style=\"text-align: right;\">\n",
       "      <th></th>\n",
       "      <th>region</th>\n",
       "      <th>max30_days</th>\n",
       "      <th>death_100</th>\n",
       "      <th>koiki_100</th>\n",
       "      <th>staff_100</th>\n",
       "      <th>doctors_100</th>\n",
       "      <th>turnout</th>\n",
       "      <th>UR</th>\n",
       "      <th>CPRF</th>\n",
       "      <th>death_real_100</th>\n",
       "      <th>...</th>\n",
       "      <th>doctors</th>\n",
       "      <th>staff</th>\n",
       "      <th>koiki</th>\n",
       "      <th>cases</th>\n",
       "      <th>max30</th>\n",
       "      <th>death</th>\n",
       "      <th>medical_index</th>\n",
       "      <th>ind_variable</th>\n",
       "      <th>death_real</th>\n",
       "      <th>ind_variable2</th>\n",
       "    </tr>\n",
       "  </thead>\n",
       "  <tbody>\n",
       "    <tr>\n",
       "      <th>0</th>\n",
       "      <td>Адыгея</td>\n",
       "      <td>12.811206</td>\n",
       "      <td>84.980997</td>\n",
       "      <td>671.734210</td>\n",
       "      <td>911.303754</td>\n",
       "      <td>389.460648</td>\n",
       "      <td>68.21</td>\n",
       "      <td>66.45</td>\n",
       "      <td>14.57</td>\n",
       "      <td>362.984157</td>\n",
       "      <td>...</td>\n",
       "      <td>15.924989</td>\n",
       "      <td>23.948786</td>\n",
       "      <td>24.199598</td>\n",
       "      <td>29.164175</td>\n",
       "      <td>26.956338</td>\n",
       "      <td>17.604123</td>\n",
       "      <td>58.529587</td>\n",
       "      <td>9.852280</td>\n",
       "      <td>42.956354</td>\n",
       "      <td>10.130886</td>\n",
       "    </tr>\n",
       "    <tr>\n",
       "      <th>1</th>\n",
       "      <td>Алтай</td>\n",
       "      <td>20.310617</td>\n",
       "      <td>155.714731</td>\n",
       "      <td>727.120090</td>\n",
       "      <td>1227.212616</td>\n",
       "      <td>454.957822</td>\n",
       "      <td>46.19</td>\n",
       "      <td>38.50</td>\n",
       "      <td>30.09</td>\n",
       "      <td>364.237066</td>\n",
       "      <td>...</td>\n",
       "      <td>26.834378</td>\n",
       "      <td>61.200300</td>\n",
       "      <td>31.159070</td>\n",
       "      <td>74.646788</td>\n",
       "      <td>44.816564</td>\n",
       "      <td>36.312767</td>\n",
       "      <td>182.358748</td>\n",
       "      <td>33.954355</td>\n",
       "      <td>43.141179</td>\n",
       "      <td>32.514582</td>\n",
       "    </tr>\n",
       "    <tr>\n",
       "      <th>2</th>\n",
       "      <td>Алтайский край</td>\n",
       "      <td>11.903822</td>\n",
       "      <td>176.132483</td>\n",
       "      <td>920.694531</td>\n",
       "      <td>1038.895078</td>\n",
       "      <td>439.118782</td>\n",
       "      <td>40.95</td>\n",
       "      <td>33.67</td>\n",
       "      <td>30.54</td>\n",
       "      <td>580.377475</td>\n",
       "      <td>...</td>\n",
       "      <td>24.196184</td>\n",
       "      <td>38.994170</td>\n",
       "      <td>55.482522</td>\n",
       "      <td>20.742494</td>\n",
       "      <td>24.795360</td>\n",
       "      <td>41.713139</td>\n",
       "      <td>204.393012</td>\n",
       "      <td>29.763439</td>\n",
       "      <td>75.025517</td>\n",
       "      <td>32.052560</td>\n",
       "    </tr>\n",
       "    <tr>\n",
       "      <th>3</th>\n",
       "      <td>Амурская обл.</td>\n",
       "      <td>17.604608</td>\n",
       "      <td>55.920520</td>\n",
       "      <td>961.263390</td>\n",
       "      <td>1090.061810</td>\n",
       "      <td>560.370215</td>\n",
       "      <td>41.65</td>\n",
       "      <td>34.32</td>\n",
       "      <td>26.55</td>\n",
       "      <td>528.008802</td>\n",
       "      <td>...</td>\n",
       "      <td>44.392156</td>\n",
       "      <td>45.027676</td>\n",
       "      <td>60.580171</td>\n",
       "      <td>29.764709</td>\n",
       "      <td>38.372068</td>\n",
       "      <td>9.917803</td>\n",
       "      <td>263.257453</td>\n",
       "      <td>33.680507</td>\n",
       "      <td>67.300259</td>\n",
       "      <td>39.683351</td>\n",
       "    </tr>\n",
       "    <tr>\n",
       "      <th>4</th>\n",
       "      <td>Архангельская обл.</td>\n",
       "      <td>24.319721</td>\n",
       "      <td>104.547878</td>\n",
       "      <td>785.320581</td>\n",
       "      <td>1215.447600</td>\n",
       "      <td>534.405674</td>\n",
       "      <td>41.58</td>\n",
       "      <td>32.21</td>\n",
       "      <td>18.70</td>\n",
       "      <td>438.831864</td>\n",
       "      <td>...</td>\n",
       "      <td>40.067431</td>\n",
       "      <td>59.812986</td>\n",
       "      <td>38.472209</td>\n",
       "      <td>58.646933</td>\n",
       "      <td>54.364446</td>\n",
       "      <td>22.779444</td>\n",
       "      <td>223.129365</td>\n",
       "      <td>34.720314</td>\n",
       "      <td>54.145164</td>\n",
       "      <td>36.930724</td>\n",
       "    </tr>\n",
       "  </tbody>\n",
       "</table>\n",
       "<p>5 rows × 21 columns</p>\n",
       "</div>"
      ],
      "text/plain": [
       "               region  max30_days   death_100   koiki_100    staff_100  \\\n",
       "0              Адыгея   12.811206   84.980997  671.734210   911.303754   \n",
       "1               Алтай   20.310617  155.714731  727.120090  1227.212616   \n",
       "2      Алтайский край   11.903822  176.132483  920.694531  1038.895078   \n",
       "3       Амурская обл.   17.604608   55.920520  961.263390  1090.061810   \n",
       "4  Архангельская обл.   24.319721  104.547878  785.320581  1215.447600   \n",
       "\n",
       "   doctors_100  turnout     UR   CPRF  death_real_100  ...    doctors  \\\n",
       "0   389.460648    68.21  66.45  14.57      362.984157  ...  15.924989   \n",
       "1   454.957822    46.19  38.50  30.09      364.237066  ...  26.834378   \n",
       "2   439.118782    40.95  33.67  30.54      580.377475  ...  24.196184   \n",
       "3   560.370215    41.65  34.32  26.55      528.008802  ...  44.392156   \n",
       "4   534.405674    41.58  32.21  18.70      438.831864  ...  40.067431   \n",
       "\n",
       "       staff      koiki      cases      max30      death  medical_index  \\\n",
       "0  23.948786  24.199598  29.164175  26.956338  17.604123      58.529587   \n",
       "1  61.200300  31.159070  74.646788  44.816564  36.312767     182.358748   \n",
       "2  38.994170  55.482522  20.742494  24.795360  41.713139     204.393012   \n",
       "3  45.027676  60.580171  29.764709  38.372068   9.917803     263.257453   \n",
       "4  59.812986  38.472209  58.646933  54.364446  22.779444     223.129365   \n",
       "\n",
       "   ind_variable  death_real  ind_variable2  \n",
       "0      9.852280   42.956354      10.130886  \n",
       "1     33.954355   43.141179      32.514582  \n",
       "2     29.763439   75.025517      32.052560  \n",
       "3     33.680507   67.300259      39.683351  \n",
       "4     34.720314   54.145164      36.930724  \n",
       "\n",
       "[5 rows x 21 columns]"
      ]
     },
     "execution_count": 522,
     "metadata": {},
     "output_type": "execute_result"
    }
   ],
   "source": [
    "medical_index.head()"
   ]
  },
  {
   "cell_type": "markdown",
   "metadata": {},
   "source": [
    "Отдельно пересчитаем итоговой индекс с информамцией о смертях, которая былая взята из росстата, и на основе предполагаемого показателя смертности с опорой на собственный анализ избыточной смертности."
   ]
  },
  {
   "cell_type": "markdown",
   "metadata": {},
   "source": [
    "*Информация из Росстата*"
   ]
  },
  {
   "cell_type": "code",
   "execution_count": 500,
   "metadata": {},
   "outputs": [],
   "source": [
    "medical_index['medical_index'] = 0.4 * medical_index['doctors'] + 0.3 * medical_index['staff'] * 0.3 * medical_index['koiki']\n",
    "medical_index['ind_variable'] = 0.3 * medical_index['medical_index'] + 0.35 * medical_index['cases'] + 0.35 * medical_index['death']\n",
    "medical_index['ind_variable'] = 100 * (medical_index['ind_variable'] - medical_index['ind_variable'].min()) / (medical_index['ind_variable'].max() - medical_index['ind_variable'].min())\n"
   ]
  },
  {
   "cell_type": "markdown",
   "metadata": {},
   "source": [
    "*Собственный подсчет смертей*"
   ]
  },
  {
   "cell_type": "code",
   "execution_count": 501,
   "metadata": {},
   "outputs": [],
   "source": [
    "medical_index['death_real'] = 100 * ((medical_index['death_real_100'] - medical_index['death_real_100'].min()) / (medical_index['death_real_100'].max() - medical_index['death_real_100'].min()))\n",
    "medical_index['ind_variable2'] = 0.3 * medical_index['medical_index'] + 0.35 * medical_index['cases']  + 0.35 * medical_index['death_real']\n",
    "medical_index['ind_variable2'] = 100 * (medical_index['ind_variable2'] - medical_index['ind_variable2'].min()) / (medical_index['ind_variable2'].max() - medical_index['ind_variable2'].min())\n",
    "\n"
   ]
  },
  {
   "cell_type": "code",
   "execution_count": 531,
   "metadata": {
    "scrolled": false
   },
   "outputs": [
    {
     "data": {
      "text/html": [
       "<div>\n",
       "<style scoped>\n",
       "    .dataframe tbody tr th:only-of-type {\n",
       "        vertical-align: middle;\n",
       "    }\n",
       "\n",
       "    .dataframe tbody tr th {\n",
       "        vertical-align: top;\n",
       "    }\n",
       "\n",
       "    .dataframe thead th {\n",
       "        text-align: right;\n",
       "    }\n",
       "</style>\n",
       "<table border=\"1\" class=\"dataframe\">\n",
       "  <thead>\n",
       "    <tr style=\"text-align: right;\">\n",
       "      <th></th>\n",
       "      <th>rank_death_rosstat</th>\n",
       "      <th>rank_death_real</th>\n",
       "      <th>rank_diff</th>\n",
       "    </tr>\n",
       "  </thead>\n",
       "  <tbody>\n",
       "    <tr>\n",
       "      <th>0</th>\n",
       "      <td>24.0</td>\n",
       "      <td>14.0</td>\n",
       "      <td>10.0</td>\n",
       "    </tr>\n",
       "    <tr>\n",
       "      <th>1</th>\n",
       "      <td>60.0</td>\n",
       "      <td>17.0</td>\n",
       "      <td>43.0</td>\n",
       "    </tr>\n",
       "    <tr>\n",
       "      <th>2</th>\n",
       "      <td>66.0</td>\n",
       "      <td>71.0</td>\n",
       "      <td>-5.0</td>\n",
       "    </tr>\n",
       "    <tr>\n",
       "      <th>3</th>\n",
       "      <td>8.0</td>\n",
       "      <td>53.0</td>\n",
       "      <td>-45.0</td>\n",
       "    </tr>\n",
       "    <tr>\n",
       "      <th>4</th>\n",
       "      <td>37.0</td>\n",
       "      <td>34.0</td>\n",
       "      <td>3.0</td>\n",
       "    </tr>\n",
       "    <tr>\n",
       "      <th>...</th>\n",
       "      <td>...</td>\n",
       "      <td>...</td>\n",
       "      <td>...</td>\n",
       "    </tr>\n",
       "    <tr>\n",
       "      <th>80</th>\n",
       "      <td>4.0</td>\n",
       "      <td>7.0</td>\n",
       "      <td>-3.0</td>\n",
       "    </tr>\n",
       "    <tr>\n",
       "      <th>81</th>\n",
       "      <td>70.0</td>\n",
       "      <td>77.0</td>\n",
       "      <td>-7.0</td>\n",
       "    </tr>\n",
       "    <tr>\n",
       "      <th>82</th>\n",
       "      <td>2.0</td>\n",
       "      <td>5.0</td>\n",
       "      <td>-3.0</td>\n",
       "    </tr>\n",
       "    <tr>\n",
       "      <th>83</th>\n",
       "      <td>49.0</td>\n",
       "      <td>4.0</td>\n",
       "      <td>45.0</td>\n",
       "    </tr>\n",
       "    <tr>\n",
       "      <th>84</th>\n",
       "      <td>28.0</td>\n",
       "      <td>56.0</td>\n",
       "      <td>-28.0</td>\n",
       "    </tr>\n",
       "  </tbody>\n",
       "</table>\n",
       "<p>85 rows × 3 columns</p>\n",
       "</div>"
      ],
      "text/plain": [
       "    rank_death_rosstat  rank_death_real  rank_diff\n",
       "0                 24.0             14.0       10.0\n",
       "1                 60.0             17.0       43.0\n",
       "2                 66.0             71.0       -5.0\n",
       "3                  8.0             53.0      -45.0\n",
       "4                 37.0             34.0        3.0\n",
       "..                 ...              ...        ...\n",
       "80                 4.0              7.0       -3.0\n",
       "81                70.0             77.0       -7.0\n",
       "82                 2.0              5.0       -3.0\n",
       "83                49.0              4.0       45.0\n",
       "84                28.0             56.0      -28.0\n",
       "\n",
       "[85 rows x 3 columns]"
      ]
     },
     "execution_count": 531,
     "metadata": {},
     "output_type": "execute_result"
    }
   ],
   "source": [
    "medical_index[['rank_death_rosstat','rank_death_real','rank_diff']]"
   ]
  },
  {
   "cell_type": "markdown",
   "metadata": {},
   "source": [
    "Чтобы продемонстрировать разницу между официальными данными по смертности и рассчитанными на основе избыточной убыли, мы посчитаем разницу рангов."
   ]
  },
  {
   "cell_type": "code",
   "execution_count": 532,
   "metadata": {},
   "outputs": [],
   "source": [
    "medical_index['rank_death_rosstat'] = medical_index['death_100'].rank()\n",
    "medical_index['rank_death_real'] = medical_index['death_real'].rank()\n",
    "medical_index['rank_diff'] = medical_index['rank_death_rosstat'] - medical_index['rank_death_real']"
   ]
  },
  {
   "cell_type": "markdown",
   "metadata": {},
   "source": [
    "Мы видим, что существует большой разброс между данными из разных истчоников."
   ]
  },
  {
   "cell_type": "code",
   "execution_count": 533,
   "metadata": {},
   "outputs": [
    {
     "name": "stderr",
     "output_type": "stream",
     "text": [
      "C:\\Users\\Asus\\anaconda3\\lib\\site-packages\\seaborn\\distributions.py:2619: FutureWarning: `distplot` is a deprecated function and will be removed in a future version. Please adapt your code to use either `displot` (a figure-level function with similar flexibility) or `histplot` (an axes-level function for histograms).\n",
      "  warnings.warn(msg, FutureWarning)\n"
     ]
    },
    {
     "data": {
      "text/plain": [
       "<matplotlib.axes._subplots.AxesSubplot at 0x298afdd55c8>"
      ]
     },
     "execution_count": 533,
     "metadata": {},
     "output_type": "execute_result"
    },
    {
     "data": {
      "image/png": "[encoded data removed]",
      "text/plain": [
       "<Figure size 1008x792 with 1 Axes>"
      ]
     },
     "metadata": {},
     "output_type": "display_data"
    }
   ],
   "source": [
    "sns.set(rc={'figure.figsize':(14,11)})\n",
    "sns.distplot(medical_index['rank_diff'])"
   ]
  },
  {
   "cell_type": "markdown",
   "metadata": {},
   "source": [
    "Выгружаем файл для регрессионого анализа в r-studio."
   ]
  },
  {
   "cell_type": "code",
   "execution_count": 510,
   "metadata": {},
   "outputs": [],
   "source": [
    "df.to_csv('medical_index.csv')"
   ]
  }
 ],
 "metadata": {
  "kernelspec": {
   "display_name": "Python 3",
   "language": "python",
   "name": "python3"
  },
  "language_info": {
   "codemirror_mode": {
    "name": "ipython",
    "version": 3
   },
   "file_extension": ".py",
   "mimetype": "text/x-python",
   "name": "python",
   "nbconvert_exporter": "python",
   "pygments_lexer": "ipython3",
   "version": "3.7.6"
  }
 },
 "nbformat": 4,
 "nbformat_minor": 4
}
