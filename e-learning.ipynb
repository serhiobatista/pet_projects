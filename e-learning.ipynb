{
 "cells": [
  {
   "cell_type": "code",
   "execution_count": 1,
   "metadata": {},
   "outputs": [],
   "source": [
    "import pandas as pd\n",
    "import numpy as np\n",
    "import seaborn as sns\n",
    "import matplotlib.pyplot as plt\n",
    "import matplotlib.colors as mcolors\n",
    "from functools import reduce\n"
   ]
  },
  {
   "cell_type": "code",
   "execution_count": 2,
   "metadata": {},
   "outputs": [],
   "source": [
    "assessment = pd.read_csv('/mnt/HC_Volume_18315164/home-jupyter/jupyter-s-kolesov/assessments.csv')\n",
    "courses = pd.read_csv('/mnt/HC_Volume_18315164/home-jupyter/jupyter-s-kolesov/courses.csv')\n",
    "regs = pd.read_csv('/mnt/HC_Volume_18315164/home-jupyter/jupyter-s-kolesov/studentRegistration.csv')\n",
    "st_assessment = pd.read_csv('/mnt/HC_Volume_18315164/home-jupyter/jupyter-s-kolesov/studentAssessment.csv')\n"
   ]
  },
  {
   "cell_type": "markdown",
   "metadata": {},
   "source": [
    "# Задание 1"
   ]
  },
  {
   "cell_type": "markdown",
   "metadata": {},
   "source": [
    "<font size = 4> Сколько студентов успешно сдали только один курс? (Успешная сдача — это зачёт по курсу на экзамене). </font>"
   ]
  },
  {
   "cell_type": "markdown",
   "metadata": {},
   "source": [
    "Нам не хватает данных о типе ассессмента, поэтому мы вытакскиваем его из таблицы с информацией об всех формах оценивания студентов."
   ]
  },
  {
   "cell_type": "code",
   "execution_count": 3,
   "metadata": {},
   "outputs": [],
   "source": [
    "st_assessment = pd.merge(st_assessment, \n",
    "                        assessment[['id_assessment', 'assessment_type','code_module','code_presentation']], \n",
    "                        on = 'id_assessment')"
   ]
  },
  {
   "cell_type": "markdown",
   "metadata": {},
   "source": [
    "Делаем предварительную фильтрацию данных: оставляем только тех студентов, которые набрали 40 и больше баллов за экзамен. Также считаем, как много таких студентов было в каждом семестре для каждого предмета."
   ]
  },
  {
   "cell_type": "code",
   "execution_count": 4,
   "metadata": {
    "scrolled": true
   },
   "outputs": [
    {
     "data": {
      "text/html": [
       "<div>\n",
       "<style scoped>\n",
       "    .dataframe tbody tr th:only-of-type {\n",
       "        vertical-align: middle;\n",
       "    }\n",
       "\n",
       "    .dataframe tbody tr th {\n",
       "        vertical-align: top;\n",
       "    }\n",
       "\n",
       "    .dataframe thead th {\n",
       "        text-align: right;\n",
       "    }\n",
       "</style>\n",
       "<table border=\"1\" class=\"dataframe\">\n",
       "  <thead>\n",
       "    <tr style=\"text-align: right;\">\n",
       "      <th></th>\n",
       "      <th></th>\n",
       "      <th>id_student</th>\n",
       "    </tr>\n",
       "    <tr>\n",
       "      <th>code_module</th>\n",
       "      <th>code_presentation</th>\n",
       "      <th></th>\n",
       "    </tr>\n",
       "  </thead>\n",
       "  <tbody>\n",
       "    <tr>\n",
       "      <th rowspan=\"2\" valign=\"top\">CCC</th>\n",
       "      <th>2014B</th>\n",
       "      <td>664</td>\n",
       "    </tr>\n",
       "    <tr>\n",
       "      <th>2014J</th>\n",
       "      <td>1019</td>\n",
       "    </tr>\n",
       "    <tr>\n",
       "      <th rowspan=\"4\" valign=\"top\">DDD</th>\n",
       "      <th>2013B</th>\n",
       "      <td>504</td>\n",
       "    </tr>\n",
       "    <tr>\n",
       "      <th>2013J</th>\n",
       "      <td>878</td>\n",
       "    </tr>\n",
       "    <tr>\n",
       "      <th>2014B</th>\n",
       "      <td>485</td>\n",
       "    </tr>\n",
       "    <tr>\n",
       "      <th>2014J</th>\n",
       "      <td>842</td>\n",
       "    </tr>\n",
       "  </tbody>\n",
       "</table>\n",
       "</div>"
      ],
      "text/plain": [
       "                               id_student\n",
       "code_module code_presentation            \n",
       "CCC         2014B                     664\n",
       "            2014J                    1019\n",
       "DDD         2013B                     504\n",
       "            2013J                     878\n",
       "            2014B                     485\n",
       "            2014J                     842"
      ]
     },
     "execution_count": 4,
     "metadata": {},
     "output_type": "execute_result"
    }
   ],
   "source": [
    "st_assessment.query('score >= 40 and assessment_type == \"Exam\"')\\\n",
    "             .groupby(['code_module', 'code_presentation'])\\\n",
    "             .agg({'id_student': 'count'})"
   ]
  },
  {
   "cell_type": "markdown",
   "metadata": {},
   "source": [
    " Видно, что в семестре 2014B и семестре 2014J были студенты, которые одновременно успешно сдали экзамен по курсу CCC и DDD. По условию задания нам нужно назвать количество студентов, которые сдали успешно закончили **только один курс**. Сохраним в отдельных таблицах студентов, которые успешно закончили курс CCC и BBB."
   ]
  },
  {
   "cell_type": "code",
   "execution_count": 5,
   "metadata": {},
   "outputs": [],
   "source": [
    "ccc_exam = st_assessment.query('score >= 40 and assessment_type == \"Exam\" and code_module == \"CCC\"')\n",
    "ddd_exam = st_assessment.query('score >= 40 and assessment_type == \"Exam\" and code_module == \"DDD\"')"
   ]
  },
  {
   "cell_type": "markdown",
   "metadata": {},
   "source": [
    "Деалем *outer join* двух новых датафреймов, чтобы найти множество студентов, которые успешно сдали только один экзамен."
   ]
  },
  {
   "cell_type": "code",
   "execution_count": 6,
   "metadata": {},
   "outputs": [],
   "source": [
    "merged = pd.merge(ddd_exam[['id_student','score', 'code_module', 'code_presentation', 'date_submitted','id_assessment']], \n",
    "         ccc_exam[['id_student','score', 'code_module','code_presentation', 'date_submitted','id_assessment']],\n",
    "         how = 'outer',\n",
    "         on = 'id_student')"
   ]
  },
  {
   "cell_type": "markdown",
   "metadata": {},
   "source": [
    "На всякий случай перепроверим наличие дубликатов в столбце **id_student**."
   ]
  },
  {
   "cell_type": "code",
   "execution_count": 7,
   "metadata": {
    "scrolled": true
   },
   "outputs": [
    {
     "data": {
      "text/html": [
       "<div>\n",
       "<style scoped>\n",
       "    .dataframe tbody tr th:only-of-type {\n",
       "        vertical-align: middle;\n",
       "    }\n",
       "\n",
       "    .dataframe tbody tr th {\n",
       "        vertical-align: top;\n",
       "    }\n",
       "\n",
       "    .dataframe thead th {\n",
       "        text-align: right;\n",
       "    }\n",
       "</style>\n",
       "<table border=\"1\" class=\"dataframe\">\n",
       "  <thead>\n",
       "    <tr style=\"text-align: right;\">\n",
       "      <th></th>\n",
       "      <th>id_student</th>\n",
       "      <th>score_x</th>\n",
       "      <th>code_module_x</th>\n",
       "      <th>code_presentation_x</th>\n",
       "      <th>date_submitted_x</th>\n",
       "      <th>id_assessment_x</th>\n",
       "    </tr>\n",
       "  </thead>\n",
       "  <tbody>\n",
       "    <tr>\n",
       "      <th>284</th>\n",
       "      <td>540758</td>\n",
       "      <td>40.0</td>\n",
       "      <td>DDD</td>\n",
       "      <td>2013B</td>\n",
       "      <td>229.0</td>\n",
       "      <td>25340.0</td>\n",
       "    </tr>\n",
       "    <tr>\n",
       "      <th>285</th>\n",
       "      <td>540758</td>\n",
       "      <td>60.0</td>\n",
       "      <td>DDD</td>\n",
       "      <td>2014B</td>\n",
       "      <td>234.0</td>\n",
       "      <td>25361.0</td>\n",
       "    </tr>\n",
       "    <tr>\n",
       "      <th>753</th>\n",
       "      <td>593903</td>\n",
       "      <td>49.0</td>\n",
       "      <td>DDD</td>\n",
       "      <td>2013J</td>\n",
       "      <td>241.0</td>\n",
       "      <td>25354.0</td>\n",
       "    </tr>\n",
       "    <tr>\n",
       "      <th>754</th>\n",
       "      <td>593903</td>\n",
       "      <td>44.0</td>\n",
       "      <td>DDD</td>\n",
       "      <td>2014J</td>\n",
       "      <td>243.0</td>\n",
       "      <td>25368.0</td>\n",
       "    </tr>\n",
       "    <tr>\n",
       "      <th>860</th>\n",
       "      <td>605118</td>\n",
       "      <td>42.0</td>\n",
       "      <td>DDD</td>\n",
       "      <td>2013J</td>\n",
       "      <td>237.0</td>\n",
       "      <td>25354.0</td>\n",
       "    </tr>\n",
       "    <tr>\n",
       "      <th>861</th>\n",
       "      <td>605118</td>\n",
       "      <td>64.0</td>\n",
       "      <td>DDD</td>\n",
       "      <td>2014J</td>\n",
       "      <td>243.0</td>\n",
       "      <td>25368.0</td>\n",
       "    </tr>\n",
       "  </tbody>\n",
       "</table>\n",
       "</div>"
      ],
      "text/plain": [
       "     id_student  score_x code_module_x code_presentation_x  date_submitted_x  \\\n",
       "284      540758     40.0           DDD               2013B             229.0   \n",
       "285      540758     60.0           DDD               2014B             234.0   \n",
       "753      593903     49.0           DDD               2013J             241.0   \n",
       "754      593903     44.0           DDD               2014J             243.0   \n",
       "860      605118     42.0           DDD               2013J             237.0   \n",
       "861      605118     64.0           DDD               2014J             243.0   \n",
       "\n",
       "     id_assessment_x  \n",
       "284          25340.0  \n",
       "285          25361.0  \n",
       "753          25354.0  \n",
       "754          25368.0  \n",
       "860          25354.0  \n",
       "861          25368.0  "
      ]
     },
     "execution_count": 7,
     "metadata": {},
     "output_type": "execute_result"
    }
   ],
   "source": [
    "id_duplicates = list(merged[merged.duplicated(subset='id_student')].iloc[:,0])\n",
    "merged.query('id_student in @id_duplicates').iloc[:,:6]"
   ]
  },
  {
   "cell_type": "markdown",
   "metadata": {},
   "source": [
    "У нас есть три студента, которые зачем-то пересдавали экзамен через год при том, что они набрали необходимое количество баллов при первой сдаче экзамена. Чтобы получить ответ, удалим дубликаты из объединенного датафрейма."
   ]
  },
  {
   "cell_type": "code",
   "execution_count": 8,
   "metadata": {},
   "outputs": [
    {
     "name": "stdout",
     "output_type": "stream",
     "text": [
      "4097 студентов успешно сдали только один курс.\n"
     ]
    }
   ],
   "source": [
    "ans = merged.drop_duplicates(subset='id_student').shape[0]\n",
    "print(f'{ans} студентов успешно сдали только один курс.')"
   ]
  },
  {
   "cell_type": "markdown",
   "metadata": {},
   "source": [
    "# Задание 2"
   ]
  },
  {
   "cell_type": "markdown",
   "metadata": {},
   "source": [
    "<font size = 4> Выяви самый сложный и самый простой экзамен: найди курсы и экзамены в рамках курса, которые обладают самой низкой и самой высокой завершаемостью*.</font>\n",
    "\n",
    "*завершаемость = кол-во успешных экзаменов / кол-во всех попыток сдать экзамен*"
   ]
  },
  {
   "cell_type": "code",
   "execution_count": 9,
   "metadata": {},
   "outputs": [],
   "source": [
    "hard_exams = st_assessment.query('assessment_type == \"Exam\"')"
   ]
  },
  {
   "cell_type": "code",
   "execution_count": 10,
   "metadata": {},
   "outputs": [
    {
     "name": "stderr",
     "output_type": "stream",
     "text": [
      "/opt/tljh/user/lib/python3.7/site-packages/ipykernel_launcher.py:1: SettingWithCopyWarning: \n",
      "A value is trying to be set on a copy of a slice from a DataFrame.\n",
      "Try using .loc[row_indexer,col_indexer] = value instead\n",
      "\n",
      "See the caveats in the documentation: https://pandas.pydata.org/pandas-docs/stable/user_guide/indexing.html#returning-a-view-versus-a-copy\n",
      "  \"\"\"Entry point for launching an IPython kernel.\n"
     ]
    }
   ],
   "source": [
    "hard_exams['status'] = st_assessment['score'].apply(lambda x: 'pass' if x >= 40 else 'no_pass')"
   ]
  },
  {
   "cell_type": "code",
   "execution_count": 11,
   "metadata": {},
   "outputs": [
    {
     "data": {
      "text/html": [
       "<div>\n",
       "<style scoped>\n",
       "    .dataframe tbody tr th:only-of-type {\n",
       "        vertical-align: middle;\n",
       "    }\n",
       "\n",
       "    .dataframe tbody tr th {\n",
       "        vertical-align: top;\n",
       "    }\n",
       "\n",
       "    .dataframe thead tr th {\n",
       "        text-align: left;\n",
       "    }\n",
       "\n",
       "    .dataframe thead tr:last-of-type th {\n",
       "        text-align: right;\n",
       "    }\n",
       "</style>\n",
       "<table border=\"1\" class=\"dataframe\">\n",
       "  <thead>\n",
       "    <tr>\n",
       "      <th></th>\n",
       "      <th></th>\n",
       "      <th colspan=\"2\" halign=\"left\">status</th>\n",
       "    </tr>\n",
       "    <tr>\n",
       "      <th></th>\n",
       "      <th>status</th>\n",
       "      <th>no_pass</th>\n",
       "      <th>pass</th>\n",
       "    </tr>\n",
       "    <tr>\n",
       "      <th>code_module</th>\n",
       "      <th>id_assessment</th>\n",
       "      <th></th>\n",
       "      <th></th>\n",
       "    </tr>\n",
       "  </thead>\n",
       "  <tbody>\n",
       "    <tr>\n",
       "      <th>DDD</th>\n",
       "      <th>25340</th>\n",
       "      <td>0.162791</td>\n",
       "      <td>0.837209</td>\n",
       "    </tr>\n",
       "    <tr>\n",
       "      <th>CCC</th>\n",
       "      <th>24299</th>\n",
       "      <td>0.127568</td>\n",
       "      <td>0.872432</td>\n",
       "    </tr>\n",
       "    <tr>\n",
       "      <th>DDD</th>\n",
       "      <th>25368</th>\n",
       "      <td>0.113684</td>\n",
       "      <td>0.886316</td>\n",
       "    </tr>\n",
       "    <tr>\n",
       "      <th>CCC</th>\n",
       "      <th>24290</th>\n",
       "      <td>0.111111</td>\n",
       "      <td>0.888889</td>\n",
       "    </tr>\n",
       "    <tr>\n",
       "      <th rowspan=\"2\" valign=\"top\">DDD</th>\n",
       "      <th>25354</th>\n",
       "      <td>0.092975</td>\n",
       "      <td>0.907025</td>\n",
       "    </tr>\n",
       "    <tr>\n",
       "      <th>25361</th>\n",
       "      <td>0.074427</td>\n",
       "      <td>0.925573</td>\n",
       "    </tr>\n",
       "  </tbody>\n",
       "</table>\n",
       "</div>"
      ],
      "text/plain": [
       "                             status          \n",
       "status                      no_pass      pass\n",
       "code_module id_assessment                    \n",
       "DDD         25340          0.162791  0.837209\n",
       "CCC         24299          0.127568  0.872432\n",
       "DDD         25368          0.113684  0.886316\n",
       "CCC         24290          0.111111  0.888889\n",
       "DDD         25354          0.092975  0.907025\n",
       "            25361          0.074427  0.925573"
      ]
     },
     "execution_count": 11,
     "metadata": {},
     "output_type": "execute_result"
    }
   ],
   "source": [
    "hard_exams.groupby(['code_module','id_assessment'])['status']\\\n",
    "          .value_counts(normalize=True)\\\n",
    "          .to_frame().unstack()\\\n",
    "          .sort_values(by=('status','pass'))"
   ]
  },
  {
   "cell_type": "markdown",
   "metadata": {},
   "source": [
    "Самая высокая заверашемость у курса DDD 25361 — 92.5% сдали экзамен. Самая низкая завершаемость у курса CCC 24299 — 87.2%. id_assessment 25340\n",
    "\n"
   ]
  },
  {
   "cell_type": "markdown",
   "metadata": {},
   "source": [
    "# Задание 3"
   ]
  },
  {
   "cell_type": "markdown",
   "metadata": {},
   "source": [
    "<font size = 4> По каждому предмету определи средний срок сдачи экзаменов (под сдачей понимаем последнее успешное прохождение экзамена студентом). </font>"
   ]
  },
  {
   "cell_type": "code",
   "execution_count": 12,
   "metadata": {},
   "outputs": [],
   "source": [
    "time_exams = st_assessment.query('assessment_type == \"Exam\" and score >= 40')"
   ]
  },
  {
   "cell_type": "code",
   "execution_count": 13,
   "metadata": {},
   "outputs": [
    {
     "data": {
      "text/html": [
       "<div>\n",
       "<style scoped>\n",
       "    .dataframe tbody tr th:only-of-type {\n",
       "        vertical-align: middle;\n",
       "    }\n",
       "\n",
       "    .dataframe tbody tr th {\n",
       "        vertical-align: top;\n",
       "    }\n",
       "\n",
       "    .dataframe thead tr th {\n",
       "        text-align: left;\n",
       "    }\n",
       "\n",
       "    .dataframe thead tr:last-of-type th {\n",
       "        text-align: right;\n",
       "    }\n",
       "</style>\n",
       "<table border=\"1\" class=\"dataframe\">\n",
       "  <thead>\n",
       "    <tr>\n",
       "      <th></th>\n",
       "      <th colspan=\"2\" halign=\"left\">date_submitted</th>\n",
       "    </tr>\n",
       "    <tr>\n",
       "      <th></th>\n",
       "      <th>mean</th>\n",
       "      <th>median</th>\n",
       "    </tr>\n",
       "    <tr>\n",
       "      <th>code_module</th>\n",
       "      <th></th>\n",
       "      <th></th>\n",
       "    </tr>\n",
       "  </thead>\n",
       "  <tbody>\n",
       "    <tr>\n",
       "      <th>CCC</th>\n",
       "      <td>239.345217</td>\n",
       "      <td>244</td>\n",
       "    </tr>\n",
       "    <tr>\n",
       "      <th>DDD</th>\n",
       "      <td>237.976006</td>\n",
       "      <td>237</td>\n",
       "    </tr>\n",
       "  </tbody>\n",
       "</table>\n",
       "</div>"
      ],
      "text/plain": [
       "            date_submitted       \n",
       "                      mean median\n",
       "code_module                      \n",
       "CCC             239.345217    244\n",
       "DDD             237.976006    237"
      ]
     },
     "execution_count": 13,
     "metadata": {},
     "output_type": "execute_result"
    }
   ],
   "source": [
    "time_exams.groupby('code_module').agg({'date_submitted':['mean','median']})"
   ]
  },
  {
   "cell_type": "markdown",
   "metadata": {},
   "source": [
    "В среднем студенты курса CCC успешно сдают экзамен на 239 день с момента начала семестра, тогда как курс DDD студенты завершают на 237 день. При этом надо учитывать, что время прохождения курса может отличаться в зависимости от семестра, в который он проводится. Эту разницу можно оценить ниже."
   ]
  },
  {
   "cell_type": "code",
   "execution_count": 14,
   "metadata": {},
   "outputs": [
    {
     "data": {
      "text/html": [
       "<div>\n",
       "<style scoped>\n",
       "    .dataframe tbody tr th:only-of-type {\n",
       "        vertical-align: middle;\n",
       "    }\n",
       "\n",
       "    .dataframe tbody tr th {\n",
       "        vertical-align: top;\n",
       "    }\n",
       "\n",
       "    .dataframe thead tr th {\n",
       "        text-align: left;\n",
       "    }\n",
       "\n",
       "    .dataframe thead tr:last-of-type th {\n",
       "        text-align: right;\n",
       "    }\n",
       "</style>\n",
       "<table border=\"1\" class=\"dataframe\">\n",
       "  <thead>\n",
       "    <tr>\n",
       "      <th></th>\n",
       "      <th></th>\n",
       "      <th colspan=\"2\" halign=\"left\">date_submitted</th>\n",
       "    </tr>\n",
       "    <tr>\n",
       "      <th></th>\n",
       "      <th></th>\n",
       "      <th>mean</th>\n",
       "      <th>median</th>\n",
       "    </tr>\n",
       "    <tr>\n",
       "      <th>code_module</th>\n",
       "      <th>code_presentation</th>\n",
       "      <th></th>\n",
       "      <th></th>\n",
       "    </tr>\n",
       "  </thead>\n",
       "  <tbody>\n",
       "    <tr>\n",
       "      <th rowspan=\"2\" valign=\"top\">CCC</th>\n",
       "      <th>2014B</th>\n",
       "      <td>231.581325</td>\n",
       "      <td>230</td>\n",
       "    </tr>\n",
       "    <tr>\n",
       "      <th>2014J</th>\n",
       "      <td>244.404318</td>\n",
       "      <td>244</td>\n",
       "    </tr>\n",
       "    <tr>\n",
       "      <th rowspan=\"4\" valign=\"top\">DDD</th>\n",
       "      <th>2013B</th>\n",
       "      <td>230.164683</td>\n",
       "      <td>230</td>\n",
       "    </tr>\n",
       "    <tr>\n",
       "      <th>2013J</th>\n",
       "      <td>239.509112</td>\n",
       "      <td>241</td>\n",
       "    </tr>\n",
       "    <tr>\n",
       "      <th>2014B</th>\n",
       "      <td>234.936082</td>\n",
       "      <td>234</td>\n",
       "    </tr>\n",
       "    <tr>\n",
       "      <th>2014J</th>\n",
       "      <td>242.804038</td>\n",
       "      <td>243</td>\n",
       "    </tr>\n",
       "  </tbody>\n",
       "</table>\n",
       "</div>"
      ],
      "text/plain": [
       "                              date_submitted       \n",
       "                                        mean median\n",
       "code_module code_presentation                      \n",
       "CCC         2014B                 231.581325    230\n",
       "            2014J                 244.404318    244\n",
       "DDD         2013B                 230.164683    230\n",
       "            2013J                 239.509112    241\n",
       "            2014B                 234.936082    234\n",
       "            2014J                 242.804038    243"
      ]
     },
     "execution_count": 14,
     "metadata": {},
     "output_type": "execute_result"
    }
   ],
   "source": [
    "time_exams.groupby(['code_module','code_presentation']).agg({'date_submitted':['mean','median']})"
   ]
  },
  {
   "cell_type": "markdown",
   "metadata": {},
   "source": [
    "# Задание 4"
   ]
  },
  {
   "cell_type": "markdown",
   "metadata": {},
   "source": [
    "<font size = 4> Выяви самые популярные курсы (ТОП-3) по количеству регистраций на них. А также курсы с самым большим оттоком (ТОП-3). </font>"
   ]
  },
  {
   "cell_type": "markdown",
   "metadata": {},
   "source": [
    "Предварительно проверим, есть ли пропуски в полях date_registration и date_unregistration. Мы видим, что очень много пропусков в date_unregistration. Это говорит о том, что NaN указывался, если студент не отписывался от курса."
   ]
  },
  {
   "cell_type": "code",
   "execution_count": 15,
   "metadata": {
    "scrolled": true
   },
   "outputs": [
    {
     "data": {
      "text/plain": [
       "code_module                0\n",
       "code_presentation          0\n",
       "id_student                 0\n",
       "date_registration         45\n",
       "date_unregistration    22521\n",
       "dtype: int64"
      ]
     },
     "execution_count": 15,
     "metadata": {},
     "output_type": "execute_result"
    }
   ],
   "source": [
    "regs.isna().sum()"
   ]
  },
  {
   "cell_type": "markdown",
   "metadata": {},
   "source": [
    "Посмотрим внимтельнее на пропуски в date_registration. Мы видим, что в таблице не зафиксирован день записи, но при этом есть день отмены регистрации. Скорее всего это какая-то ошибка, которая появилась на этапе составление таблицы."
   ]
  },
  {
   "cell_type": "code",
   "execution_count": 16,
   "metadata": {},
   "outputs": [
    {
     "data": {
      "text/html": [
       "<div>\n",
       "<style scoped>\n",
       "    .dataframe tbody tr th:only-of-type {\n",
       "        vertical-align: middle;\n",
       "    }\n",
       "\n",
       "    .dataframe tbody tr th {\n",
       "        vertical-align: top;\n",
       "    }\n",
       "\n",
       "    .dataframe thead th {\n",
       "        text-align: right;\n",
       "    }\n",
       "</style>\n",
       "<table border=\"1\" class=\"dataframe\">\n",
       "  <thead>\n",
       "    <tr style=\"text-align: right;\">\n",
       "      <th></th>\n",
       "      <th>code_module</th>\n",
       "      <th>code_presentation</th>\n",
       "      <th>id_student</th>\n",
       "      <th>date_registration</th>\n",
       "      <th>date_unregistration</th>\n",
       "    </tr>\n",
       "  </thead>\n",
       "  <tbody>\n",
       "    <tr>\n",
       "      <th>2344</th>\n",
       "      <td>BBB</td>\n",
       "      <td>2013B</td>\n",
       "      <td>630346</td>\n",
       "      <td>NaN</td>\n",
       "      <td>NaN</td>\n",
       "    </tr>\n",
       "    <tr>\n",
       "      <th>2538</th>\n",
       "      <td>BBB</td>\n",
       "      <td>2013J</td>\n",
       "      <td>57369</td>\n",
       "      <td>NaN</td>\n",
       "      <td>-1.0</td>\n",
       "    </tr>\n",
       "    <tr>\n",
       "      <th>2759</th>\n",
       "      <td>BBB</td>\n",
       "      <td>2013J</td>\n",
       "      <td>342678</td>\n",
       "      <td>NaN</td>\n",
       "      <td>-33.0</td>\n",
       "    </tr>\n",
       "    <tr>\n",
       "      <th>5356</th>\n",
       "      <td>BBB</td>\n",
       "      <td>2014B</td>\n",
       "      <td>582496</td>\n",
       "      <td>NaN</td>\n",
       "      <td>-126.0</td>\n",
       "    </tr>\n",
       "    <tr>\n",
       "      <th>5490</th>\n",
       "      <td>BBB</td>\n",
       "      <td>2014B</td>\n",
       "      <td>607646</td>\n",
       "      <td>NaN</td>\n",
       "      <td>-38.0</td>\n",
       "    </tr>\n",
       "    <tr>\n",
       "      <th>5573</th>\n",
       "      <td>BBB</td>\n",
       "      <td>2014B</td>\n",
       "      <td>614270</td>\n",
       "      <td>NaN</td>\n",
       "      <td>-142.0</td>\n",
       "    </tr>\n",
       "    <tr>\n",
       "      <th>6295</th>\n",
       "      <td>BBB</td>\n",
       "      <td>2014B</td>\n",
       "      <td>2409808</td>\n",
       "      <td>NaN</td>\n",
       "      <td>-109.0</td>\n",
       "    </tr>\n",
       "    <tr>\n",
       "      <th>6305</th>\n",
       "      <td>BBB</td>\n",
       "      <td>2014B</td>\n",
       "      <td>2439442</td>\n",
       "      <td>NaN</td>\n",
       "      <td>-149.0</td>\n",
       "    </tr>\n",
       "    <tr>\n",
       "      <th>8307</th>\n",
       "      <td>BBB</td>\n",
       "      <td>2014J</td>\n",
       "      <td>694001</td>\n",
       "      <td>NaN</td>\n",
       "      <td>-36.0</td>\n",
       "    </tr>\n",
       "    <tr>\n",
       "      <th>8975</th>\n",
       "      <td>CCC</td>\n",
       "      <td>2014B</td>\n",
       "      <td>394791</td>\n",
       "      <td>NaN</td>\n",
       "      <td>-61.0</td>\n",
       "    </tr>\n",
       "    <tr>\n",
       "      <th>9523</th>\n",
       "      <td>CCC</td>\n",
       "      <td>2014B</td>\n",
       "      <td>575419</td>\n",
       "      <td>NaN</td>\n",
       "      <td>-24.0</td>\n",
       "    </tr>\n",
       "    <tr>\n",
       "      <th>9811</th>\n",
       "      <td>CCC</td>\n",
       "      <td>2014B</td>\n",
       "      <td>604480</td>\n",
       "      <td>NaN</td>\n",
       "      <td>-168.0</td>\n",
       "    </tr>\n",
       "    <tr>\n",
       "      <th>9853</th>\n",
       "      <td>CCC</td>\n",
       "      <td>2014B</td>\n",
       "      <td>607703</td>\n",
       "      <td>NaN</td>\n",
       "      <td>-156.0</td>\n",
       "    </tr>\n",
       "    <tr>\n",
       "      <th>10388</th>\n",
       "      <td>CCC</td>\n",
       "      <td>2014B</td>\n",
       "      <td>1600062</td>\n",
       "      <td>NaN</td>\n",
       "      <td>-152.0</td>\n",
       "    </tr>\n",
       "    <tr>\n",
       "      <th>11249</th>\n",
       "      <td>CCC</td>\n",
       "      <td>2014J</td>\n",
       "      <td>544271</td>\n",
       "      <td>NaN</td>\n",
       "      <td>-29.0</td>\n",
       "    </tr>\n",
       "    <tr>\n",
       "      <th>12545</th>\n",
       "      <td>CCC</td>\n",
       "      <td>2014J</td>\n",
       "      <td>680333</td>\n",
       "      <td>NaN</td>\n",
       "      <td>-65.0</td>\n",
       "    </tr>\n",
       "    <tr>\n",
       "      <th>12893</th>\n",
       "      <td>CCC</td>\n",
       "      <td>2014J</td>\n",
       "      <td>1777834</td>\n",
       "      <td>NaN</td>\n",
       "      <td>NaN</td>\n",
       "    </tr>\n",
       "    <tr>\n",
       "      <th>13135</th>\n",
       "      <td>DDD</td>\n",
       "      <td>2013B</td>\n",
       "      <td>128965</td>\n",
       "      <td>NaN</td>\n",
       "      <td>-24.0</td>\n",
       "    </tr>\n",
       "    <tr>\n",
       "      <th>13503</th>\n",
       "      <td>DDD</td>\n",
       "      <td>2013B</td>\n",
       "      <td>464615</td>\n",
       "      <td>NaN</td>\n",
       "      <td>-116.0</td>\n",
       "    </tr>\n",
       "    <tr>\n",
       "      <th>14392</th>\n",
       "      <td>DDD</td>\n",
       "      <td>2013B</td>\n",
       "      <td>2707979</td>\n",
       "      <td>NaN</td>\n",
       "      <td>NaN</td>\n",
       "    </tr>\n",
       "    <tr>\n",
       "      <th>14393</th>\n",
       "      <td>DDD</td>\n",
       "      <td>2013B</td>\n",
       "      <td>2710343</td>\n",
       "      <td>NaN</td>\n",
       "      <td>NaN</td>\n",
       "    </tr>\n",
       "    <tr>\n",
       "      <th>14556</th>\n",
       "      <td>DDD</td>\n",
       "      <td>2013J</td>\n",
       "      <td>250456</td>\n",
       "      <td>NaN</td>\n",
       "      <td>-40.0</td>\n",
       "    </tr>\n",
       "    <tr>\n",
       "      <th>14876</th>\n",
       "      <td>DDD</td>\n",
       "      <td>2013J</td>\n",
       "      <td>470119</td>\n",
       "      <td>NaN</td>\n",
       "      <td>-75.0</td>\n",
       "    </tr>\n",
       "    <tr>\n",
       "      <th>15214</th>\n",
       "      <td>DDD</td>\n",
       "      <td>2013J</td>\n",
       "      <td>550142</td>\n",
       "      <td>NaN</td>\n",
       "      <td>-196.0</td>\n",
       "    </tr>\n",
       "    <tr>\n",
       "      <th>15968</th>\n",
       "      <td>DDD</td>\n",
       "      <td>2013J</td>\n",
       "      <td>604398</td>\n",
       "      <td>NaN</td>\n",
       "      <td>-1.0</td>\n",
       "    </tr>\n",
       "    <tr>\n",
       "      <th>16092</th>\n",
       "      <td>DDD</td>\n",
       "      <td>2013J</td>\n",
       "      <td>835603</td>\n",
       "      <td>NaN</td>\n",
       "      <td>-81.0</td>\n",
       "    </tr>\n",
       "    <tr>\n",
       "      <th>16862</th>\n",
       "      <td>DDD</td>\n",
       "      <td>2014B</td>\n",
       "      <td>591648</td>\n",
       "      <td>NaN</td>\n",
       "      <td>-213.0</td>\n",
       "    </tr>\n",
       "    <tr>\n",
       "      <th>16911</th>\n",
       "      <td>DDD</td>\n",
       "      <td>2014B</td>\n",
       "      <td>604480</td>\n",
       "      <td>NaN</td>\n",
       "      <td>-168.0</td>\n",
       "    </tr>\n",
       "    <tr>\n",
       "      <th>17559</th>\n",
       "      <td>DDD</td>\n",
       "      <td>2014B</td>\n",
       "      <td>2710343</td>\n",
       "      <td>NaN</td>\n",
       "      <td>NaN</td>\n",
       "    </tr>\n",
       "    <tr>\n",
       "      <th>18249</th>\n",
       "      <td>DDD</td>\n",
       "      <td>2014J</td>\n",
       "      <td>604632</td>\n",
       "      <td>NaN</td>\n",
       "      <td>12.0</td>\n",
       "    </tr>\n",
       "    <tr>\n",
       "      <th>18433</th>\n",
       "      <td>DDD</td>\n",
       "      <td>2014J</td>\n",
       "      <td>636590</td>\n",
       "      <td>NaN</td>\n",
       "      <td>-163.0</td>\n",
       "    </tr>\n",
       "    <tr>\n",
       "      <th>19362</th>\n",
       "      <td>DDD</td>\n",
       "      <td>2014J</td>\n",
       "      <td>2716795</td>\n",
       "      <td>NaN</td>\n",
       "      <td>5.0</td>\n",
       "    </tr>\n",
       "    <tr>\n",
       "      <th>19773</th>\n",
       "      <td>EEE</td>\n",
       "      <td>2013J</td>\n",
       "      <td>568751</td>\n",
       "      <td>NaN</td>\n",
       "      <td>146.0</td>\n",
       "    </tr>\n",
       "    <tr>\n",
       "      <th>20413</th>\n",
       "      <td>EEE</td>\n",
       "      <td>2013J</td>\n",
       "      <td>2681277</td>\n",
       "      <td>NaN</td>\n",
       "      <td>-166.0</td>\n",
       "    </tr>\n",
       "    <tr>\n",
       "      <th>22335</th>\n",
       "      <td>FFF</td>\n",
       "      <td>2013B</td>\n",
       "      <td>107955</td>\n",
       "      <td>NaN</td>\n",
       "      <td>-40.0</td>\n",
       "    </tr>\n",
       "    <tr>\n",
       "      <th>23796</th>\n",
       "      <td>FFF</td>\n",
       "      <td>2013B</td>\n",
       "      <td>2102658</td>\n",
       "      <td>NaN</td>\n",
       "      <td>NaN</td>\n",
       "    </tr>\n",
       "    <tr>\n",
       "      <th>23818</th>\n",
       "      <td>FFF</td>\n",
       "      <td>2013B</td>\n",
       "      <td>2288493</td>\n",
       "      <td>NaN</td>\n",
       "      <td>-2.0</td>\n",
       "    </tr>\n",
       "    <tr>\n",
       "      <th>25790</th>\n",
       "      <td>FFF</td>\n",
       "      <td>2013J</td>\n",
       "      <td>605108</td>\n",
       "      <td>NaN</td>\n",
       "      <td>-46.0</td>\n",
       "    </tr>\n",
       "    <tr>\n",
       "      <th>26333</th>\n",
       "      <td>FFF</td>\n",
       "      <td>2014B</td>\n",
       "      <td>323688</td>\n",
       "      <td>NaN</td>\n",
       "      <td>-107.0</td>\n",
       "    </tr>\n",
       "    <tr>\n",
       "      <th>26576</th>\n",
       "      <td>FFF</td>\n",
       "      <td>2014B</td>\n",
       "      <td>535460</td>\n",
       "      <td>NaN</td>\n",
       "      <td>-365.0</td>\n",
       "    </tr>\n",
       "    <tr>\n",
       "      <th>26803</th>\n",
       "      <td>FFF</td>\n",
       "      <td>2014B</td>\n",
       "      <td>598362</td>\n",
       "      <td>NaN</td>\n",
       "      <td>-119.0</td>\n",
       "    </tr>\n",
       "    <tr>\n",
       "      <th>26904</th>\n",
       "      <td>FFF</td>\n",
       "      <td>2014B</td>\n",
       "      <td>612254</td>\n",
       "      <td>NaN</td>\n",
       "      <td>-88.0</td>\n",
       "    </tr>\n",
       "    <tr>\n",
       "      <th>27550</th>\n",
       "      <td>FFF</td>\n",
       "      <td>2014B</td>\n",
       "      <td>1290731</td>\n",
       "      <td>NaN</td>\n",
       "      <td>-82.0</td>\n",
       "    </tr>\n",
       "    <tr>\n",
       "      <th>29974</th>\n",
       "      <td>FFF</td>\n",
       "      <td>2014J</td>\n",
       "      <td>2371481</td>\n",
       "      <td>NaN</td>\n",
       "      <td>-53.0</td>\n",
       "    </tr>\n",
       "    <tr>\n",
       "      <th>30058</th>\n",
       "      <td>FFF</td>\n",
       "      <td>2014J</td>\n",
       "      <td>2702660</td>\n",
       "      <td>NaN</td>\n",
       "      <td>9.0</td>\n",
       "    </tr>\n",
       "  </tbody>\n",
       "</table>\n",
       "</div>"
      ],
      "text/plain": [
       "      code_module code_presentation  id_student  date_registration  \\\n",
       "2344          BBB             2013B      630346                NaN   \n",
       "2538          BBB             2013J       57369                NaN   \n",
       "2759          BBB             2013J      342678                NaN   \n",
       "5356          BBB             2014B      582496                NaN   \n",
       "5490          BBB             2014B      607646                NaN   \n",
       "5573          BBB             2014B      614270                NaN   \n",
       "6295          BBB             2014B     2409808                NaN   \n",
       "6305          BBB             2014B     2439442                NaN   \n",
       "8307          BBB             2014J      694001                NaN   \n",
       "8975          CCC             2014B      394791                NaN   \n",
       "9523          CCC             2014B      575419                NaN   \n",
       "9811          CCC             2014B      604480                NaN   \n",
       "9853          CCC             2014B      607703                NaN   \n",
       "10388         CCC             2014B     1600062                NaN   \n",
       "11249         CCC             2014J      544271                NaN   \n",
       "12545         CCC             2014J      680333                NaN   \n",
       "12893         CCC             2014J     1777834                NaN   \n",
       "13135         DDD             2013B      128965                NaN   \n",
       "13503         DDD             2013B      464615                NaN   \n",
       "14392         DDD             2013B     2707979                NaN   \n",
       "14393         DDD             2013B     2710343                NaN   \n",
       "14556         DDD             2013J      250456                NaN   \n",
       "14876         DDD             2013J      470119                NaN   \n",
       "15214         DDD             2013J      550142                NaN   \n",
       "15968         DDD             2013J      604398                NaN   \n",
       "16092         DDD             2013J      835603                NaN   \n",
       "16862         DDD             2014B      591648                NaN   \n",
       "16911         DDD             2014B      604480                NaN   \n",
       "17559         DDD             2014B     2710343                NaN   \n",
       "18249         DDD             2014J      604632                NaN   \n",
       "18433         DDD             2014J      636590                NaN   \n",
       "19362         DDD             2014J     2716795                NaN   \n",
       "19773         EEE             2013J      568751                NaN   \n",
       "20413         EEE             2013J     2681277                NaN   \n",
       "22335         FFF             2013B      107955                NaN   \n",
       "23796         FFF             2013B     2102658                NaN   \n",
       "23818         FFF             2013B     2288493                NaN   \n",
       "25790         FFF             2013J      605108                NaN   \n",
       "26333         FFF             2014B      323688                NaN   \n",
       "26576         FFF             2014B      535460                NaN   \n",
       "26803         FFF             2014B      598362                NaN   \n",
       "26904         FFF             2014B      612254                NaN   \n",
       "27550         FFF             2014B     1290731                NaN   \n",
       "29974         FFF             2014J     2371481                NaN   \n",
       "30058         FFF             2014J     2702660                NaN   \n",
       "\n",
       "       date_unregistration  \n",
       "2344                   NaN  \n",
       "2538                  -1.0  \n",
       "2759                 -33.0  \n",
       "5356                -126.0  \n",
       "5490                 -38.0  \n",
       "5573                -142.0  \n",
       "6295                -109.0  \n",
       "6305                -149.0  \n",
       "8307                 -36.0  \n",
       "8975                 -61.0  \n",
       "9523                 -24.0  \n",
       "9811                -168.0  \n",
       "9853                -156.0  \n",
       "10388               -152.0  \n",
       "11249                -29.0  \n",
       "12545                -65.0  \n",
       "12893                  NaN  \n",
       "13135                -24.0  \n",
       "13503               -116.0  \n",
       "14392                  NaN  \n",
       "14393                  NaN  \n",
       "14556                -40.0  \n",
       "14876                -75.0  \n",
       "15214               -196.0  \n",
       "15968                 -1.0  \n",
       "16092                -81.0  \n",
       "16862               -213.0  \n",
       "16911               -168.0  \n",
       "17559                  NaN  \n",
       "18249                 12.0  \n",
       "18433               -163.0  \n",
       "19362                  5.0  \n",
       "19773                146.0  \n",
       "20413               -166.0  \n",
       "22335                -40.0  \n",
       "23796                  NaN  \n",
       "23818                 -2.0  \n",
       "25790                -46.0  \n",
       "26333               -107.0  \n",
       "26576               -365.0  \n",
       "26803               -119.0  \n",
       "26904                -88.0  \n",
       "27550                -82.0  \n",
       "29974                -53.0  \n",
       "30058                  9.0  "
      ]
     },
     "execution_count": 16,
     "metadata": {},
     "output_type": "execute_result"
    }
   ],
   "source": [
    "regs.query('date_registration == \"NaN\"')"
   ]
  },
  {
   "cell_type": "markdown",
   "metadata": {},
   "source": [
    "Заолним столбец единицами, чтобы эти строки учитывались при группировке."
   ]
  },
  {
   "cell_type": "code",
   "execution_count": 17,
   "metadata": {},
   "outputs": [],
   "source": [
    "regs['date_registration'].fillna(value=1,inplace=True)"
   ]
  },
  {
   "cell_type": "code",
   "execution_count": 18,
   "metadata": {},
   "outputs": [
    {
     "data": {
      "text/html": [
       "<div>\n",
       "<style scoped>\n",
       "    .dataframe tbody tr th:only-of-type {\n",
       "        vertical-align: middle;\n",
       "    }\n",
       "\n",
       "    .dataframe tbody tr th {\n",
       "        vertical-align: top;\n",
       "    }\n",
       "\n",
       "    .dataframe thead th {\n",
       "        text-align: right;\n",
       "    }\n",
       "</style>\n",
       "<table border=\"1\" class=\"dataframe\">\n",
       "  <thead>\n",
       "    <tr style=\"text-align: right;\">\n",
       "      <th></th>\n",
       "      <th>date_registration</th>\n",
       "      <th>date_unregistration</th>\n",
       "    </tr>\n",
       "    <tr>\n",
       "      <th>code_module</th>\n",
       "      <th></th>\n",
       "      <th></th>\n",
       "    </tr>\n",
       "  </thead>\n",
       "  <tbody>\n",
       "    <tr>\n",
       "      <th>BBB</th>\n",
       "      <td>7909</td>\n",
       "      <td>2377</td>\n",
       "    </tr>\n",
       "    <tr>\n",
       "      <th>FFF</th>\n",
       "      <td>7762</td>\n",
       "      <td>2380</td>\n",
       "    </tr>\n",
       "    <tr>\n",
       "      <th>DDD</th>\n",
       "      <td>6272</td>\n",
       "      <td>2235</td>\n",
       "    </tr>\n",
       "  </tbody>\n",
       "</table>\n",
       "</div>"
      ],
      "text/plain": [
       "             date_registration  date_unregistration\n",
       "code_module                                        \n",
       "BBB                       7909                 2377\n",
       "FFF                       7762                 2380\n",
       "DDD                       6272                 2235"
      ]
     },
     "execution_count": 18,
     "metadata": {},
     "output_type": "execute_result"
    }
   ],
   "source": [
    "regs.groupby('code_module').agg({'date_registration':'count', 'date_unregistration':'count'})\\\n",
    "                           .sort_values(by=['date_registration','date_unregistration'],ascending=False)\\\n",
    "                           .iloc[:3,:]"
   ]
  },
  {
   "cell_type": "markdown",
   "metadata": {},
   "source": [
    "Самые популярные курсы по количеству регистраций являются же и курсами с самым больши оттоком."
   ]
  },
  {
   "cell_type": "markdown",
   "metadata": {},
   "source": [
    "# Задание 5"
   ]
  },
  {
   "cell_type": "markdown",
   "metadata": {},
   "source": [
    "<font size = 4> Напиши функцию на python, позволяющую строить когортный (семестровый) анализ. В период с начала 2013 по конец 2014 выяви семестр с самой низкой завершаемостью курсов и самыми долгими средними сроками сдачи курсов. </font>"
   ]
  },
  {
   "cell_type": "code",
   "execution_count": 19,
   "metadata": {},
   "outputs": [],
   "source": [
    "assessment = pd.read_csv('/mnt/HC_Volume_18315164/home-jupyter/jupyter-s-kolesov/assessments.csv')\n",
    "st_assessment = pd.read_csv('/mnt/HC_Volume_18315164/home-jupyter/jupyter-s-kolesov/studentAssessment.csv')\n"
   ]
  },
  {
   "cell_type": "code",
   "execution_count": 20,
   "metadata": {},
   "outputs": [],
   "source": [
    "def cohort_elearning(st_assessment, assessment):\n",
    "    \n",
    "    '''\n",
    "    Первый аргумент функции — это датафрейм, содеражащий результаты тестов студентов. \n",
    "    Во второй аргумент передается датафрейм с информацией об оценках в тесте.\n",
    "\n",
    "    Пояснение к работе функции:\n",
    "\n",
    "    1) Сначала мы объединяем два датасета, чтобы итоговая таблица содержала инфомрацию о типе ассесмента;\n",
    "    2) После фильтрации оставялем информацию о студентах, которые успешно сдали экзамен;\n",
    "    3) Создаем сводную таблицу success, в которой будет указан процент завершенных курсов;\n",
    "    4) Еще одна сводная таблица time_to_pass, где хранится информация о среднем времени, которое требуется для завершения курса;\n",
    "    5) Выводим итоговую сводную таблицу.\n",
    "    \n",
    "    '''\n",
    "    \n",
    "    st_assessment = pd.merge(st_assessment, \n",
    "                        assessment[['id_assessment', 'assessment_type','code_module','code_presentation']], \n",
    "                        on = 'id_assessment')\n",
    "    \n",
    "    time_exams = st_assessment.query('assessment_type == \"Exam\" and score >= 40')\n",
    "    \n",
    "    success = hard_exams.groupby('code_presentation')['status'].value_counts(normalize=True)\\\n",
    "                                                 .to_frame()\\\n",
    "                                                 .rename(columns={'status': 'success'})\\\n",
    "                                                 .reset_index(level=['status','code_presentation'])\\\n",
    "                                                 .query('status == \"pass\"').iloc[:,[0,2]]\n",
    "    \n",
    "    time_to_pass = hard_exams.groupby('code_presentation',as_index=False).agg({'date_submitted':'mean'})\n",
    "    \n",
    "    return pd.merge(success, time_to_pass, on='code_presentation')\n",
    "    \n",
    "    "
   ]
  },
  {
   "cell_type": "code",
   "execution_count": 21,
   "metadata": {},
   "outputs": [
    {
     "data": {
      "text/html": [
       "<div>\n",
       "<style scoped>\n",
       "    .dataframe tbody tr th:only-of-type {\n",
       "        vertical-align: middle;\n",
       "    }\n",
       "\n",
       "    .dataframe tbody tr th {\n",
       "        vertical-align: top;\n",
       "    }\n",
       "\n",
       "    .dataframe thead th {\n",
       "        text-align: right;\n",
       "    }\n",
       "</style>\n",
       "<table border=\"1\" class=\"dataframe\">\n",
       "  <thead>\n",
       "    <tr style=\"text-align: right;\">\n",
       "      <th></th>\n",
       "      <th>code_presentation</th>\n",
       "      <th>success</th>\n",
       "      <th>date_submitted</th>\n",
       "    </tr>\n",
       "  </thead>\n",
       "  <tbody>\n",
       "    <tr>\n",
       "      <th>0</th>\n",
       "      <td>2013B</td>\n",
       "      <td>0.837209</td>\n",
       "      <td>230.179402</td>\n",
       "    </tr>\n",
       "    <tr>\n",
       "      <th>1</th>\n",
       "      <td>2013J</td>\n",
       "      <td>0.907025</td>\n",
       "      <td>239.505165</td>\n",
       "    </tr>\n",
       "    <tr>\n",
       "      <th>2</th>\n",
       "      <td>2014B</td>\n",
       "      <td>0.904013</td>\n",
       "      <td>232.988985</td>\n",
       "    </tr>\n",
       "    <tr>\n",
       "      <th>3</th>\n",
       "      <td>2014J</td>\n",
       "      <td>0.878659</td>\n",
       "      <td>243.674221</td>\n",
       "    </tr>\n",
       "  </tbody>\n",
       "</table>\n",
       "</div>"
      ],
      "text/plain": [
       "  code_presentation   success  date_submitted\n",
       "0             2013B  0.837209      230.179402\n",
       "1             2013J  0.907025      239.505165\n",
       "2             2014B  0.904013      232.988985\n",
       "3             2014J  0.878659      243.674221"
      ]
     },
     "execution_count": 21,
     "metadata": {},
     "output_type": "execute_result"
    }
   ],
   "source": [
    "cohort_elearning(st_assessment, assessment)"
   ]
  },
  {
   "cell_type": "markdown",
   "metadata": {},
   "source": [
    "Самая низкая завершаемость курсов была в семестре **2013B**. В среднем курсы сдавали дольше всего в семестре **2014J**."
   ]
  },
  {
   "cell_type": "markdown",
   "metadata": {},
   "source": [
    "# Задание 6"
   ]
  },
  {
   "cell_type": "markdown",
   "metadata": {},
   "source": [
    "<font size = 4> Часто для качественного анализа аудитории использую подходы, основанные на сегментации. Используя python, построй адаптированные RFM-кластеры студентов, чтобы качественно оценить свою аудиторию. В адаптированной кластеризации можешь выбрать следующие метрики: **R - среднее время сдачи одного экзамена**, **F - завершаемость курсов**, **M - среднее количество баллов**, получаемое за экзамен. Подробно опиши, как ты создавал кластеры. Для каждого RFM-сегмента построй границы метрик recency, frequency и monetary для интерпретации этих кластеров. Пример такого описания: RFM-сегмент 132 (recency=1, frequency=3, monetary=2) имеет границы метрик recency от 130 до 500 дней, frequency от 0.1 до 0.5, monetary от 55 до 72 баллов. </font>"
   ]
  },
  {
   "cell_type": "code",
   "execution_count": 22,
   "metadata": {},
   "outputs": [],
   "source": [
    "assessment = pd.read_csv('/mnt/HC_Volume_18315164/home-jupyter/jupyter-s-kolesov/assessments.csv')\n",
    "st_assessment = pd.read_csv('/mnt/HC_Volume_18315164/home-jupyter/jupyter-s-kolesov/studentAssessment.csv')\n",
    "\n",
    "st_assessment = pd.merge(st_assessment, \n",
    "                        assessment[['id_assessment', 'assessment_type','code_module','code_presentation']], \n",
    "                        on = 'id_assessment')"
   ]
  },
  {
   "cell_type": "markdown",
   "metadata": {},
   "source": [
    "Начнем с расчета **R- среднее время сдачи одного экзамена**. Мы загрузили данные, теперь оставим только строки со студентами, которые сдавали экзамен."
   ]
  },
  {
   "cell_type": "code",
   "execution_count": 23,
   "metadata": {},
   "outputs": [],
   "source": [
    "st_assessment = st_assessment.query('assessment_type == \"Exam\"')"
   ]
  },
  {
   "cell_type": "markdown",
   "metadata": {},
   "source": [
    "Сгруппируем данные по id студента и посчитаем, сколько времени в среднем потратил студент для сдачи экзмена, при этом мы не учитываем, сдал ли он его успешно или нет."
   ]
  },
  {
   "cell_type": "code",
   "execution_count": 24,
   "metadata": {},
   "outputs": [],
   "source": [
    "date_submitted_mean = st_assessment.groupby('id_student', as_index = False).agg({'date_submitted':'mean'})"
   ]
  },
  {
   "cell_type": "markdown",
   "metadata": {},
   "source": [
    "Мы создадим категориальные переменные на основе квантилей: \n",
    "\n",
    "0 - 0.3 соответсвует студентами, которые затратили времени в среднем меньше, чем 2/3 других студентов; \n",
    "0.3 - 0.7 студенты-среднячки, потратили не слишком много времени, но при этом не слишком мало;\n",
    "0.7 - 1 студенты, потратившие времени больше всех остальных на сдачу экзамена"
   ]
  },
  {
   "cell_type": "code",
   "execution_count": 25,
   "metadata": {},
   "outputs": [],
   "source": [
    "bins = [0, \n",
    "        date_submitted_mean['date_submitted'].quantile(q=0.3),\n",
    "        date_submitted_mean['date_submitted'].quantile(q=0.7),\n",
    "        date_submitted_mean['date_submitted'].max()]\n",
    "\n",
    "labels = [1, 2, 3]\n",
    "\n",
    "date_submitted_mean['recency'] = pd.cut(date_submitted_mean['date_submitted'], bins = bins, labels = labels)"
   ]
  },
  {
   "cell_type": "code",
   "execution_count": 26,
   "metadata": {},
   "outputs": [
    {
     "data": {
      "text/plain": [
       "285.0"
      ]
     },
     "execution_count": 26,
     "metadata": {},
     "output_type": "execute_result"
    }
   ],
   "source": [
    " date_submitted_mean['date_submitted'].max()"
   ]
  },
  {
   "cell_type": "markdown",
   "metadata": {},
   "source": [
    "**Считаем F-завершаемость**. Смотрим, разброс в количестве экзаменов, которые мог сдать один студент. Видим, что студен за весь период обучение мог попытаться сдать либо один, либо два экзамена."
   ]
  },
  {
   "cell_type": "code",
   "execution_count": 27,
   "metadata": {},
   "outputs": [
    {
     "data": {
      "text/plain": [
       "1    4307\n",
       "2     326\n",
       "Name: id_assessment, dtype: int64"
      ]
     },
     "execution_count": 27,
     "metadata": {},
     "output_type": "execute_result"
    }
   ],
   "source": [
    "st_assessment.groupby('id_student',as_index=False).agg({'id_assessment':'count'})['id_assessment'].value_counts()"
   ]
  },
  {
   "cell_type": "markdown",
   "metadata": {},
   "source": [
    "Создадим столбец, в котором будет содержаться категориальная переменная, сдал ли экзамен студент или нет."
   ]
  },
  {
   "cell_type": "code",
   "execution_count": 28,
   "metadata": {},
   "outputs": [],
   "source": [
    "st_assessment['status'] = st_assessment['score'].apply(lambda x: 'pass' if x >= 40 else 'no_pass')"
   ]
  },
  {
   "cell_type": "markdown",
   "metadata": {},
   "source": [
    "Подсчитаем долю сданных и не сданных экзаменов. Будем ориентироваться на столбец **pass**, так как его проще интерпретировать. Мы знаем, что студент мог сдавать либо один, либо два экзамена. Соотвественно, 1 ознает, что у студента стопроцентная завершаемость курсов, 0.5 говорит о том, что студент сдал половину от всех экзменов, NaN в нашем случае означает, что студент не сдал ни одного экзамена. Заменим NaN-ы нулями, чтобы затем было удобнее создать столбец с категоиальными переменными."
   ]
  },
  {
   "cell_type": "code",
   "execution_count": 29,
   "metadata": {},
   "outputs": [],
   "source": [
    "success_share = st_assessment.groupby('id_student')['status']\\\n",
    "          .value_counts(normalize=True)\\\n",
    "          .to_frame().unstack()\\\n",
    "          .sort_values(by=('status','pass'))\\\n",
    "          .reset_index().droplevel(0, axis=1)"
   ]
  },
  {
   "cell_type": "code",
   "execution_count": 30,
   "metadata": {},
   "outputs": [
    {
     "data": {
      "text/plain": [
       "1.0    4069\n",
       "0.5      28\n",
       "Name: pass, dtype: int64"
      ]
     },
     "execution_count": 30,
     "metadata": {},
     "output_type": "execute_result"
    }
   ],
   "source": [
    "success_share['pass'].value_counts()"
   ]
  },
  {
   "cell_type": "code",
   "execution_count": 31,
   "metadata": {},
   "outputs": [],
   "source": [
    "success_share['pass'].fillna(0, inplace = True)"
   ]
  },
  {
   "cell_type": "markdown",
   "metadata": {},
   "source": [
    "1 - 100% завершаемость курсов; 2 - 50% завершаемость; 3 - ни сдал ни одного экзамена"
   ]
  },
  {
   "cell_type": "code",
   "execution_count": 32,
   "metadata": {},
   "outputs": [],
   "source": [
    "success_share['frequency'] = success_share['pass'].apply(lambda x: 1 if x == 1 else (2 if x == 0.5 else 3))\n",
    "success_share.rename(columns = {'':'id_student'}, inplace = True)"
   ]
  },
  {
   "cell_type": "code",
   "execution_count": 33,
   "metadata": {},
   "outputs": [
    {
     "data": {
      "text/html": [
       "<div>\n",
       "<style scoped>\n",
       "    .dataframe tbody tr th:only-of-type {\n",
       "        vertical-align: middle;\n",
       "    }\n",
       "\n",
       "    .dataframe tbody tr th {\n",
       "        vertical-align: top;\n",
       "    }\n",
       "\n",
       "    .dataframe thead th {\n",
       "        text-align: right;\n",
       "    }\n",
       "</style>\n",
       "<table border=\"1\" class=\"dataframe\">\n",
       "  <thead>\n",
       "    <tr style=\"text-align: right;\">\n",
       "      <th>status</th>\n",
       "      <th>id_student</th>\n",
       "      <th>no_pass</th>\n",
       "      <th>pass</th>\n",
       "      <th>frequency</th>\n",
       "    </tr>\n",
       "  </thead>\n",
       "  <tbody>\n",
       "    <tr>\n",
       "      <th>0</th>\n",
       "      <td>572382</td>\n",
       "      <td>0.5</td>\n",
       "      <td>0.5</td>\n",
       "      <td>2</td>\n",
       "    </tr>\n",
       "    <tr>\n",
       "      <th>1</th>\n",
       "      <td>561848</td>\n",
       "      <td>0.5</td>\n",
       "      <td>0.5</td>\n",
       "      <td>2</td>\n",
       "    </tr>\n",
       "    <tr>\n",
       "      <th>2</th>\n",
       "      <td>529078</td>\n",
       "      <td>0.5</td>\n",
       "      <td>0.5</td>\n",
       "      <td>2</td>\n",
       "    </tr>\n",
       "    <tr>\n",
       "      <th>3</th>\n",
       "      <td>554205</td>\n",
       "      <td>0.5</td>\n",
       "      <td>0.5</td>\n",
       "      <td>2</td>\n",
       "    </tr>\n",
       "    <tr>\n",
       "      <th>4</th>\n",
       "      <td>620243</td>\n",
       "      <td>0.5</td>\n",
       "      <td>0.5</td>\n",
       "      <td>2</td>\n",
       "    </tr>\n",
       "  </tbody>\n",
       "</table>\n",
       "</div>"
      ],
      "text/plain": [
       "status  id_student  no_pass  pass  frequency\n",
       "0           572382      0.5   0.5          2\n",
       "1           561848      0.5   0.5          2\n",
       "2           529078      0.5   0.5          2\n",
       "3           554205      0.5   0.5          2\n",
       "4           620243      0.5   0.5          2"
      ]
     },
     "execution_count": 33,
     "metadata": {},
     "output_type": "execute_result"
    }
   ],
   "source": [
    "success_share.head()"
   ]
  },
  {
   "cell_type": "markdown",
   "metadata": {},
   "source": [
    "Посчитаем **M - среднее количество баллов**."
   ]
  },
  {
   "cell_type": "markdown",
   "metadata": {},
   "source": [
    "Группируем по уникальному id студента и считаем средний балл по всем экзаменам."
   ]
  },
  {
   "cell_type": "code",
   "execution_count": 34,
   "metadata": {},
   "outputs": [],
   "source": [
    "score_mean = st_assessment.groupby('id_student',as_index=False).agg({'score':'mean'})"
   ]
  },
  {
   "cell_type": "markdown",
   "metadata": {},
   "source": [
    "В первый интервал вошли студенты, которые не сдали экзамен, так как не набрали 40  и более баллов.  В интервале 40 - значение квантиля(75) находятся среднячки, это наиболее обширная группа студентов; нижней границе этого интервала  соотвествует квантиль 0.13. В интервале значений квантилей 0.75 и 1 находятся студенты с самым высокими баллами.\n",
    "\n",
    "3 - студент не сдал экзамен, 2 - студент-среднячок, 1 - студент большой молодец, набрал много баллов."
   ]
  },
  {
   "cell_type": "code",
   "execution_count": 35,
   "metadata": {},
   "outputs": [],
   "source": [
    "score_mean['monetary'] = pd.cut(score_mean['score'], \n",
    "                  bins = [0,39,score_mean['score'].quantile(q=0.75),score_mean['score'].max()], \n",
    "                  include_lowest = True,\n",
    "                  labels = [1,2,3])"
   ]
  },
  {
   "cell_type": "markdown",
   "metadata": {},
   "source": [
    "Добавим получившиеся срезы в новую таблицу."
   ]
  },
  {
   "cell_type": "code",
   "execution_count": 36,
   "metadata": {},
   "outputs": [],
   "source": [
    "data_frames = [st_assessment, \n",
    "               date_submitted_mean[['recency','id_student']], \n",
    "               score_mean[['monetary','id_student']],\n",
    "               success_share[['frequency','id_student']]]"
   ]
  },
  {
   "cell_type": "code",
   "execution_count": 37,
   "metadata": {},
   "outputs": [],
   "source": [
    "rgm = reduce(lambda  left,right: pd.merge(left,right,on=['id_student'],\n",
    "                                            ), data_frames)"
   ]
  },
  {
   "cell_type": "markdown",
   "metadata": {},
   "source": [
    "|     Переменная    |      Время (R)           |         Завершаемость (F)      |            Кол-во баллов (M)          | \n",
    "|       :---        |       :----:             |             :----:             |              ---:                     |\n",
    "|       1           |       229 - 234          |   Сданы все экзамены           |              0 - 39                   |\n",
    "|       2           |       235 - 243          |  Сдана половина экзаменов      |              40 - 82                  |\n",
    "|       3           |       244 - 285          |   Не сдан ни один экзамен      |              83 - 100                 |"
   ]
  },
  {
   "cell_type": "markdown",
   "metadata": {},
   "source": [
    "Функция для быстрой фильтрации"
   ]
  },
  {
   "cell_type": "code",
   "execution_count": 38,
   "metadata": {},
   "outputs": [],
   "source": [
    "def rgm(r,f,m, df=rgm):\n",
    "    return df.query('recency == @r and frequency == @f and monetary == @m')"
   ]
  },
  {
   "cell_type": "code",
   "execution_count": 39,
   "metadata": {},
   "outputs": [
    {
     "data": {
      "text/html": [
       "<div>\n",
       "<style scoped>\n",
       "    .dataframe tbody tr th:only-of-type {\n",
       "        vertical-align: middle;\n",
       "    }\n",
       "\n",
       "    .dataframe tbody tr th {\n",
       "        vertical-align: top;\n",
       "    }\n",
       "\n",
       "    .dataframe thead th {\n",
       "        text-align: right;\n",
       "    }\n",
       "</style>\n",
       "<table border=\"1\" class=\"dataframe\">\n",
       "  <thead>\n",
       "    <tr style=\"text-align: right;\">\n",
       "      <th></th>\n",
       "      <th>id_assessment</th>\n",
       "      <th>id_student</th>\n",
       "      <th>date_submitted</th>\n",
       "      <th>is_banked</th>\n",
       "      <th>score</th>\n",
       "      <th>assessment_type</th>\n",
       "      <th>code_module</th>\n",
       "      <th>code_presentation</th>\n",
       "      <th>status</th>\n",
       "      <th>recency</th>\n",
       "      <th>monetary</th>\n",
       "      <th>frequency</th>\n",
       "    </tr>\n",
       "  </thead>\n",
       "  <tbody>\n",
       "    <tr>\n",
       "      <th>19</th>\n",
       "      <td>24290</td>\n",
       "      <td>566185</td>\n",
       "      <td>230</td>\n",
       "      <td>0</td>\n",
       "      <td>36.0</td>\n",
       "      <td>Exam</td>\n",
       "      <td>CCC</td>\n",
       "      <td>2014B</td>\n",
       "      <td>no_pass</td>\n",
       "      <td>1</td>\n",
       "      <td>1</td>\n",
       "      <td>2</td>\n",
       "    </tr>\n",
       "    <tr>\n",
       "      <th>20</th>\n",
       "      <td>25354</td>\n",
       "      <td>566185</td>\n",
       "      <td>237</td>\n",
       "      <td>0</td>\n",
       "      <td>40.0</td>\n",
       "      <td>Exam</td>\n",
       "      <td>DDD</td>\n",
       "      <td>2013J</td>\n",
       "      <td>pass</td>\n",
       "      <td>1</td>\n",
       "      <td>1</td>\n",
       "      <td>2</td>\n",
       "    </tr>\n",
       "  </tbody>\n",
       "</table>\n",
       "</div>"
      ],
      "text/plain": [
       "    id_assessment  id_student  date_submitted  is_banked  score  \\\n",
       "19          24290      566185             230          0   36.0   \n",
       "20          25354      566185             237          0   40.0   \n",
       "\n",
       "   assessment_type code_module code_presentation   status recency monetary  \\\n",
       "19            Exam         CCC             2014B  no_pass       1        1   \n",
       "20            Exam         DDD             2013J     pass       1        1   \n",
       "\n",
       "    frequency  \n",
       "19          2  \n",
       "20          2  "
      ]
     },
     "execution_count": 39,
     "metadata": {},
     "output_type": "execute_result"
    }
   ],
   "source": [
    "rgm(1,2,1)"
   ]
  },
  {
   "cell_type": "code",
   "execution_count": null,
   "metadata": {},
   "outputs": [],
   "source": []
  }
 ],
 "metadata": {
  "kernelspec": {
   "display_name": "Python 3",
   "language": "python",
   "name": "python3"
  },
  "language_info": {
   "codemirror_mode": {
    "name": "ipython",
    "version": 3
   },
   "file_extension": ".py",
   "mimetype": "text/x-python",
   "name": "python",
   "nbconvert_exporter": "python",
   "pygments_lexer": "ipython3",
   "version": "3.7.3"
  }
 },
 "nbformat": 4,
 "nbformat_minor": 4
}
